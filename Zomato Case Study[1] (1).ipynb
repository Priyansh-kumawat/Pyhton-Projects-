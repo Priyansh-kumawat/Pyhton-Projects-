{
 "cells": [
  {
   "cell_type": "code",
   "execution_count": 1,
   "id": "d6501f4a-545f-4d0c-94d4-8f4b383eeecf",
   "metadata": {},
   "outputs": [],
   "source": [
    "import pandas as pd\n",
    "import matplotlib.pyplot as plt"
   ]
  },
  {
   "cell_type": "code",
   "execution_count": 2,
   "id": "845e0105-8276-4c24-9f13-28eeefa22126",
   "metadata": {},
   "outputs": [
    {
     "data": {
      "text/html": [
       "<div>\n",
       "<style scoped>\n",
       "    .dataframe tbody tr th:only-of-type {\n",
       "        vertical-align: middle;\n",
       "    }\n",
       "\n",
       "    .dataframe tbody tr th {\n",
       "        vertical-align: top;\n",
       "    }\n",
       "\n",
       "    .dataframe thead th {\n",
       "        text-align: right;\n",
       "    }\n",
       "</style>\n",
       "<table border=\"1\" class=\"dataframe\">\n",
       "  <thead>\n",
       "    <tr style=\"text-align: right;\">\n",
       "      <th></th>\n",
       "      <th>Restaurant ID</th>\n",
       "      <th>Restaurant Name</th>\n",
       "      <th>Country Code</th>\n",
       "      <th>City</th>\n",
       "      <th>Address</th>\n",
       "      <th>Locality</th>\n",
       "      <th>Locality Verbose</th>\n",
       "      <th>Longitude</th>\n",
       "      <th>Latitude</th>\n",
       "      <th>Cuisines</th>\n",
       "      <th>...</th>\n",
       "      <th>Currency</th>\n",
       "      <th>Has Table booking</th>\n",
       "      <th>Has Online delivery</th>\n",
       "      <th>Is delivering now</th>\n",
       "      <th>Switch to order menu</th>\n",
       "      <th>Price range</th>\n",
       "      <th>Aggregate rating</th>\n",
       "      <th>Rating color</th>\n",
       "      <th>Rating text</th>\n",
       "      <th>Votes</th>\n",
       "    </tr>\n",
       "  </thead>\n",
       "  <tbody>\n",
       "    <tr>\n",
       "      <th>0</th>\n",
       "      <td>6317637</td>\n",
       "      <td>Le Petit Souffle</td>\n",
       "      <td>162</td>\n",
       "      <td>Makati City</td>\n",
       "      <td>Third Floor, Century City Mall, Kalayaan Avenu...</td>\n",
       "      <td>Century City Mall, Poblacion, Makati City</td>\n",
       "      <td>Century City Mall, Poblacion, Makati City, Mak...</td>\n",
       "      <td>121.027535</td>\n",
       "      <td>14.565443</td>\n",
       "      <td>French, Japanese, Desserts</td>\n",
       "      <td>...</td>\n",
       "      <td>Botswana Pula(P)</td>\n",
       "      <td>Yes</td>\n",
       "      <td>No</td>\n",
       "      <td>No</td>\n",
       "      <td>No</td>\n",
       "      <td>3</td>\n",
       "      <td>4.8</td>\n",
       "      <td>Dark Green</td>\n",
       "      <td>Excellent</td>\n",
       "      <td>314</td>\n",
       "    </tr>\n",
       "    <tr>\n",
       "      <th>1</th>\n",
       "      <td>6304287</td>\n",
       "      <td>Izakaya Kikufuji</td>\n",
       "      <td>162</td>\n",
       "      <td>Makati City</td>\n",
       "      <td>Little Tokyo, 2277 Chino Roces Avenue, Legaspi...</td>\n",
       "      <td>Little Tokyo, Legaspi Village, Makati City</td>\n",
       "      <td>Little Tokyo, Legaspi Village, Makati City, Ma...</td>\n",
       "      <td>121.014101</td>\n",
       "      <td>14.553708</td>\n",
       "      <td>Japanese</td>\n",
       "      <td>...</td>\n",
       "      <td>Botswana Pula(P)</td>\n",
       "      <td>Yes</td>\n",
       "      <td>No</td>\n",
       "      <td>No</td>\n",
       "      <td>No</td>\n",
       "      <td>3</td>\n",
       "      <td>4.5</td>\n",
       "      <td>Dark Green</td>\n",
       "      <td>Excellent</td>\n",
       "      <td>591</td>\n",
       "    </tr>\n",
       "    <tr>\n",
       "      <th>2</th>\n",
       "      <td>6300002</td>\n",
       "      <td>Heat - Edsa Shangri-La</td>\n",
       "      <td>162</td>\n",
       "      <td>Mandaluyong City</td>\n",
       "      <td>Edsa Shangri-La, 1 Garden Way, Ortigas, Mandal...</td>\n",
       "      <td>Edsa Shangri-La, Ortigas, Mandaluyong City</td>\n",
       "      <td>Edsa Shangri-La, Ortigas, Mandaluyong City, Ma...</td>\n",
       "      <td>121.056831</td>\n",
       "      <td>14.581404</td>\n",
       "      <td>Seafood, Asian, Filipino, Indian</td>\n",
       "      <td>...</td>\n",
       "      <td>Botswana Pula(P)</td>\n",
       "      <td>Yes</td>\n",
       "      <td>No</td>\n",
       "      <td>No</td>\n",
       "      <td>No</td>\n",
       "      <td>4</td>\n",
       "      <td>4.4</td>\n",
       "      <td>Green</td>\n",
       "      <td>Very Good</td>\n",
       "      <td>270</td>\n",
       "    </tr>\n",
       "    <tr>\n",
       "      <th>3</th>\n",
       "      <td>6318506</td>\n",
       "      <td>Ooma</td>\n",
       "      <td>162</td>\n",
       "      <td>Mandaluyong City</td>\n",
       "      <td>Third Floor, Mega Fashion Hall, SM Megamall, O...</td>\n",
       "      <td>SM Megamall, Ortigas, Mandaluyong City</td>\n",
       "      <td>SM Megamall, Ortigas, Mandaluyong City, Mandal...</td>\n",
       "      <td>121.056475</td>\n",
       "      <td>14.585318</td>\n",
       "      <td>Japanese, Sushi</td>\n",
       "      <td>...</td>\n",
       "      <td>Botswana Pula(P)</td>\n",
       "      <td>No</td>\n",
       "      <td>No</td>\n",
       "      <td>No</td>\n",
       "      <td>No</td>\n",
       "      <td>4</td>\n",
       "      <td>4.9</td>\n",
       "      <td>Dark Green</td>\n",
       "      <td>Excellent</td>\n",
       "      <td>365</td>\n",
       "    </tr>\n",
       "    <tr>\n",
       "      <th>4</th>\n",
       "      <td>6314302</td>\n",
       "      <td>Sambo Kojin</td>\n",
       "      <td>162</td>\n",
       "      <td>Mandaluyong City</td>\n",
       "      <td>Third Floor, Mega Atrium, SM Megamall, Ortigas...</td>\n",
       "      <td>SM Megamall, Ortigas, Mandaluyong City</td>\n",
       "      <td>SM Megamall, Ortigas, Mandaluyong City, Mandal...</td>\n",
       "      <td>121.057508</td>\n",
       "      <td>14.584450</td>\n",
       "      <td>Japanese, Korean</td>\n",
       "      <td>...</td>\n",
       "      <td>Botswana Pula(P)</td>\n",
       "      <td>Yes</td>\n",
       "      <td>No</td>\n",
       "      <td>No</td>\n",
       "      <td>No</td>\n",
       "      <td>4</td>\n",
       "      <td>4.8</td>\n",
       "      <td>Dark Green</td>\n",
       "      <td>Excellent</td>\n",
       "      <td>229</td>\n",
       "    </tr>\n",
       "  </tbody>\n",
       "</table>\n",
       "<p>5 rows × 21 columns</p>\n",
       "</div>"
      ],
      "text/plain": [
       "   Restaurant ID         Restaurant Name  Country Code              City  \\\n",
       "0        6317637        Le Petit Souffle           162       Makati City   \n",
       "1        6304287        Izakaya Kikufuji           162       Makati City   \n",
       "2        6300002  Heat - Edsa Shangri-La           162  Mandaluyong City   \n",
       "3        6318506                    Ooma           162  Mandaluyong City   \n",
       "4        6314302             Sambo Kojin           162  Mandaluyong City   \n",
       "\n",
       "                                             Address  \\\n",
       "0  Third Floor, Century City Mall, Kalayaan Avenu...   \n",
       "1  Little Tokyo, 2277 Chino Roces Avenue, Legaspi...   \n",
       "2  Edsa Shangri-La, 1 Garden Way, Ortigas, Mandal...   \n",
       "3  Third Floor, Mega Fashion Hall, SM Megamall, O...   \n",
       "4  Third Floor, Mega Atrium, SM Megamall, Ortigas...   \n",
       "\n",
       "                                     Locality  \\\n",
       "0   Century City Mall, Poblacion, Makati City   \n",
       "1  Little Tokyo, Legaspi Village, Makati City   \n",
       "2  Edsa Shangri-La, Ortigas, Mandaluyong City   \n",
       "3      SM Megamall, Ortigas, Mandaluyong City   \n",
       "4      SM Megamall, Ortigas, Mandaluyong City   \n",
       "\n",
       "                                    Locality Verbose   Longitude   Latitude  \\\n",
       "0  Century City Mall, Poblacion, Makati City, Mak...  121.027535  14.565443   \n",
       "1  Little Tokyo, Legaspi Village, Makati City, Ma...  121.014101  14.553708   \n",
       "2  Edsa Shangri-La, Ortigas, Mandaluyong City, Ma...  121.056831  14.581404   \n",
       "3  SM Megamall, Ortigas, Mandaluyong City, Mandal...  121.056475  14.585318   \n",
       "4  SM Megamall, Ortigas, Mandaluyong City, Mandal...  121.057508  14.584450   \n",
       "\n",
       "                           Cuisines  ...          Currency Has Table booking  \\\n",
       "0        French, Japanese, Desserts  ...  Botswana Pula(P)               Yes   \n",
       "1                          Japanese  ...  Botswana Pula(P)               Yes   \n",
       "2  Seafood, Asian, Filipino, Indian  ...  Botswana Pula(P)               Yes   \n",
       "3                   Japanese, Sushi  ...  Botswana Pula(P)                No   \n",
       "4                  Japanese, Korean  ...  Botswana Pula(P)               Yes   \n",
       "\n",
       "  Has Online delivery Is delivering now Switch to order menu Price range  \\\n",
       "0                  No                No                   No           3   \n",
       "1                  No                No                   No           3   \n",
       "2                  No                No                   No           4   \n",
       "3                  No                No                   No           4   \n",
       "4                  No                No                   No           4   \n",
       "\n",
       "   Aggregate rating  Rating color Rating text Votes  \n",
       "0               4.8    Dark Green   Excellent   314  \n",
       "1               4.5    Dark Green   Excellent   591  \n",
       "2               4.4         Green   Very Good   270  \n",
       "3               4.9    Dark Green   Excellent   365  \n",
       "4               4.8    Dark Green   Excellent   229  \n",
       "\n",
       "[5 rows x 21 columns]"
      ]
     },
     "execution_count": 2,
     "metadata": {},
     "output_type": "execute_result"
    }
   ],
   "source": [
    "data = pd.read_csv(r\"zomato.csv\",encoding= 'latin-1' )\n",
    "data.head()"
   ]
  },
  {
   "cell_type": "code",
   "execution_count": 3,
   "id": "5f29ad07-9106-48f4-a0c3-09584c85a305",
   "metadata": {},
   "outputs": [
    {
     "data": {
      "text/plain": [
       "Index(['Restaurant ID', 'Restaurant Name', 'Country Code', 'City', 'Address',\n",
       "       'Locality', 'Locality Verbose', 'Longitude', 'Latitude', 'Cuisines',\n",
       "       'Average Cost for two', 'Currency', 'Has Table booking',\n",
       "       'Has Online delivery', 'Is delivering now', 'Switch to order menu',\n",
       "       'Price range', 'Aggregate rating', 'Rating color', 'Rating text',\n",
       "       'Votes'],\n",
       "      dtype='object')"
      ]
     },
     "execution_count": 3,
     "metadata": {},
     "output_type": "execute_result"
    }
   ],
   "source": [
    "data.columns"
   ]
  },
  {
   "cell_type": "code",
   "execution_count": 4,
   "id": "9d25191e-619e-4417-bf02-c6c32716552e",
   "metadata": {},
   "outputs": [
    {
     "data": {
      "text/plain": [
       "(9551, 21)"
      ]
     },
     "execution_count": 4,
     "metadata": {},
     "output_type": "execute_result"
    }
   ],
   "source": [
    "data.shape"
   ]
  },
  {
   "cell_type": "markdown",
   "id": "421b45b7-d468-4494-ad89-0081b499c80f",
   "metadata": {},
   "source": [
    "removing Unwanted columns"
   ]
  },
  {
   "cell_type": "code",
   "execution_count": 5,
   "id": "3e4f25b6-90aa-4933-81f3-f788e53796d9",
   "metadata": {
    "scrolled": true
   },
   "outputs": [],
   "source": [
    "data.drop(columns= [ 'Is delivering now' , 'Restaurant ID' ], inplace =True )"
   ]
  },
  {
   "cell_type": "code",
   "execution_count": 6,
   "id": "3cfa48ed-d16c-4e39-8e6e-6b24f112a77b",
   "metadata": {},
   "outputs": [
    {
     "data": {
      "text/plain": [
       "Index(['Restaurant Name', 'Country Code', 'City', 'Address', 'Locality',\n",
       "       'Locality Verbose', 'Longitude', 'Latitude', 'Cuisines',\n",
       "       'Average Cost for two', 'Currency', 'Has Table booking',\n",
       "       'Has Online delivery', 'Switch to order menu', 'Price range',\n",
       "       'Aggregate rating', 'Rating color', 'Rating text', 'Votes'],\n",
       "      dtype='object')"
      ]
     },
     "execution_count": 6,
     "metadata": {},
     "output_type": "execute_result"
    }
   ],
   "source": [
    "data.columns"
   ]
  },
  {
   "cell_type": "code",
   "execution_count": 7,
   "id": "2f1e4bf4-8513-4393-b086-34ff9ab2ca6d",
   "metadata": {},
   "outputs": [
    {
     "data": {
      "text/plain": [
       "15"
      ]
     },
     "execution_count": 7,
     "metadata": {},
     "output_type": "execute_result"
    }
   ],
   "source": [
    "data['Country Code'].nunique()"
   ]
  },
  {
   "cell_type": "code",
   "execution_count": 8,
   "id": "2a2f46df-3078-48cb-82d7-222eb270e52a",
   "metadata": {},
   "outputs": [
    {
     "data": {
      "text/plain": [
       "Country Code\n",
       "1      8652\n",
       "216     434\n",
       "215      80\n",
       "30       60\n",
       "214      60\n",
       "189      60\n",
       "148      40\n",
       "208      34\n",
       "14       24\n",
       "162      22\n",
       "94       21\n",
       "184      20\n",
       "166      20\n",
       "191      20\n",
       "37        4\n",
       "Name: count, dtype: int64"
      ]
     },
     "execution_count": 8,
     "metadata": {},
     "output_type": "execute_result"
    }
   ],
   "source": [
    "data['Country Code'].value_counts()"
   ]
  },
  {
   "cell_type": "markdown",
   "id": "0a15b023-b517-4a03-ae44-019e8654ffef",
   "metadata": {},
   "source": [
    "Since most of the data belong to one country only i.e. 1 . We can seperate the data on the basis of this column , this will allow us to remove more unwanted columns like Country Code and Currency as it will be well known."
   ]
  },
  {
   "cell_type": "code",
   "execution_count": 9,
   "id": "b2d355f0-5236-455c-95f4-256f89f9c420",
   "metadata": {},
   "outputs": [],
   "source": [
    "mask = data['Country Code']==1\n",
    "data=data[mask]"
   ]
  },
  {
   "cell_type": "code",
   "execution_count": 10,
   "id": "812074d4-c43e-4568-86f5-45af0b5d1f1f",
   "metadata": {},
   "outputs": [
    {
     "data": {
      "text/plain": [
       "(8652, 19)"
      ]
     },
     "execution_count": 10,
     "metadata": {},
     "output_type": "execute_result"
    }
   ],
   "source": [
    "data.shape"
   ]
  },
  {
   "cell_type": "code",
   "execution_count": 11,
   "id": "0a8a96b6-1723-4a17-823d-bddccf2b8f82",
   "metadata": {},
   "outputs": [
    {
     "data": {
      "text/plain": [
       "Index(['Restaurant Name', 'City', 'Address', 'Locality', 'Locality Verbose',\n",
       "       'Longitude', 'Latitude', 'Cuisines', 'Average Cost for two',\n",
       "       'Has Table booking', 'Has Online delivery', 'Switch to order menu',\n",
       "       'Price range', 'Aggregate rating', 'Rating color', 'Rating text',\n",
       "       'Votes'],\n",
       "      dtype='object')"
      ]
     },
     "execution_count": 11,
     "metadata": {},
     "output_type": "execute_result"
    }
   ],
   "source": [
    "data.drop(columns= [ 'Country Code' , 'Currency' ], inplace =True )\n",
    "data.columns"
   ]
  },
  {
   "cell_type": "markdown",
   "id": "04b91c7f-590a-438e-ba6f-7d1d7bbdd966",
   "metadata": {},
   "source": [
    "considering city"
   ]
  },
  {
   "cell_type": "code",
   "execution_count": 12,
   "id": "b047163a-1130-4500-b5d5-2493f951ea28",
   "metadata": {},
   "outputs": [
    {
     "data": {
      "text/plain": [
       "43"
      ]
     },
     "execution_count": 12,
     "metadata": {},
     "output_type": "execute_result"
    }
   ],
   "source": [
    "data['City'].nunique()"
   ]
  },
  {
   "cell_type": "code",
   "execution_count": 13,
   "id": "6958b00a-06c0-46c4-961d-eaea863cb2d8",
   "metadata": {},
   "outputs": [
    {
     "data": {
      "text/plain": [
       "City\n",
       "New Delhi       5473\n",
       "Gurgaon         1118\n",
       "Noida           1080\n",
       "Faridabad        251\n",
       "Ghaziabad         25\n",
       "Ahmedabad         21\n",
       "Guwahati          21\n",
       "Lucknow           21\n",
       "Bhubaneshwar      21\n",
       "Amritsar          21\n",
       "Pune              20\n",
       "Puducherry        20\n",
       "Patna             20\n",
       "Ludhiana          20\n",
       "Ranchi            20\n",
       "Surat             20\n",
       "Vadodara          20\n",
       "Nashik            20\n",
       "Nagpur            20\n",
       "Mysore            20\n",
       "Mumbai            20\n",
       "Varanasi          20\n",
       "Mangalore         20\n",
       "Agra              20\n",
       "Kochi             20\n",
       "Kolkata           20\n",
       "Dehradun          20\n",
       "Allahabad         20\n",
       "Aurangabad        20\n",
       "Bangalore         20\n",
       "Bhopal            20\n",
       "Chennai           20\n",
       "Coimbatore        20\n",
       "Goa               20\n",
       "Indore            20\n",
       "Jaipur            20\n",
       "Kanpur            20\n",
       "Vizag             20\n",
       "Chandigarh        18\n",
       "Hyderabad         18\n",
       "Secunderabad       2\n",
       "Panchkula          1\n",
       "Mohali             1\n",
       "Name: count, dtype: int64"
      ]
     },
     "execution_count": 13,
     "metadata": {},
     "output_type": "execute_result"
    }
   ],
   "source": [
    "data['City'].value_counts()"
   ]
  },
  {
   "cell_type": "markdown",
   "id": "d6314a67-f007-4615-9876-17a9bb4c3214",
   "metadata": {},
   "source": [
    "Since most of the data is coming from only 3 cities , we should keep them only , this will allow us to train our model based only on the same kind of data points."
   ]
  },
  {
   "cell_type": "code",
   "execution_count": 14,
   "id": "896bcaf2-1f67-4641-8cbb-1b3727dfd25c",
   "metadata": {},
   "outputs": [],
   "source": [
    "mask= data['City'].isin(['New Delhi', 'Gurgaon' ,'Noida'])\n",
    "data=data[mask]\n"
   ]
  },
  {
   "cell_type": "code",
   "execution_count": 15,
   "id": "def35710-00c2-4bdf-adde-ceed993947c2",
   "metadata": {},
   "outputs": [
    {
     "data": {
      "text/plain": [
       "(7671, 17)"
      ]
     },
     "execution_count": 15,
     "metadata": {},
     "output_type": "execute_result"
    }
   ],
   "source": [
    "data.shape"
   ]
  },
  {
   "cell_type": "code",
   "execution_count": 16,
   "id": "14aee6a0-dba4-4ed7-b10b-4988c8fafa38",
   "metadata": {},
   "outputs": [
    {
     "data": {
      "text/plain": [
       "5834"
      ]
     },
     "execution_count": 16,
     "metadata": {},
     "output_type": "execute_result"
    }
   ],
   "source": [
    "data['Restaurant Name'].nunique()"
   ]
  },
  {
   "cell_type": "code",
   "execution_count": 17,
   "id": "ad7cc9bd-495d-4520-8e97-fa789f6543a1",
   "metadata": {},
   "outputs": [
    {
     "data": {
      "text/plain": [
       "Restaurant Name\n",
       "Cafe Coffee Day         81\n",
       "Domino's Pizza          75\n",
       "Subway                  60\n",
       "Green Chick Chop        47\n",
       "McDonald's              44\n",
       "                        ..\n",
       "Sahni Chicken Corner     1\n",
       "Rewari Sweets            1\n",
       "Pindi's Kitchen          1\n",
       "Nagi Fish Corner         1\n",
       "The Grand                1\n",
       "Name: count, Length: 5834, dtype: int64"
      ]
     },
     "execution_count": 17,
     "metadata": {},
     "output_type": "execute_result"
    }
   ],
   "source": [
    "data['Restaurant Name'].value_counts()"
   ]
  },
  {
   "cell_type": "code",
   "execution_count": 18,
   "id": "28e6182a-ddfe-4d56-a6d0-125ab0638c77",
   "metadata": {},
   "outputs": [
    {
     "data": {
      "text/plain": [
       "Index(['Restaurant Name', 'City', 'Address', 'Locality', 'Locality Verbose',\n",
       "       'Longitude', 'Latitude', 'Cuisines', 'Average Cost for two',\n",
       "       'Has Table booking', 'Has Online delivery', 'Switch to order menu',\n",
       "       'Price range', 'Aggregate rating', 'Rating color', 'Rating text',\n",
       "       'Votes'],\n",
       "      dtype='object')"
      ]
     },
     "execution_count": 18,
     "metadata": {},
     "output_type": "execute_result"
    }
   ],
   "source": [
    "data.columns"
   ]
  },
  {
   "cell_type": "markdown",
   "id": "93c3ad48-2428-4999-9e83-dd538b1e3438",
   "metadata": {},
   "source": [
    "As we can see that name of the restaurant can impact the price but also not so significantly so it can be removed . Apart from that Address , Locality and Locality Verbose does not make any sense as they indirectly shows latitude and longitude . They will not create any sort of sense if fed to the model so they too can be removed. Similarly Rating Color clones Aggregate Rating and Rating Text will not make any impact to the model as it will eventually take integer as input."
   ]
  },
  {
   "cell_type": "code",
   "execution_count": 19,
   "id": "090deaac-f181-4f66-a645-26dbef4c0488",
   "metadata": {},
   "outputs": [],
   "source": [
    "data.drop(columns= [ 'Restaurant Name' , 'Address', 'Locality', 'Locality Verbose', 'Rating color', 'Rating text' ], inplace =True )\n"
   ]
  },
  {
   "cell_type": "code",
   "execution_count": 20,
   "id": "dcafb6dc-2db0-44f2-98d1-052b0290bc61",
   "metadata": {},
   "outputs": [
    {
     "data": {
      "text/plain": [
       "Index(['City', 'Longitude', 'Latitude', 'Cuisines', 'Average Cost for two',\n",
       "       'Has Table booking', 'Has Online delivery', 'Switch to order menu',\n",
       "       'Price range', 'Aggregate rating', 'Votes'],\n",
       "      dtype='object')"
      ]
     },
     "execution_count": 20,
     "metadata": {},
     "output_type": "execute_result"
    }
   ],
   "source": [
    "data.columns"
   ]
  },
  {
   "cell_type": "code",
   "execution_count": 21,
   "id": "ef498dd0-14c9-4c66-9db3-834c766fbf2b",
   "metadata": {},
   "outputs": [
    {
     "data": {
      "text/plain": [
       "Switch to order menu\n",
       "No    7671\n",
       "Name: count, dtype: int64"
      ]
     },
     "execution_count": 21,
     "metadata": {},
     "output_type": "execute_result"
    }
   ],
   "source": [
    "data['Switch to order menu'].value_counts()"
   ]
  },
  {
   "cell_type": "markdown",
   "id": "d989cd4a-3f78-4252-a517-de58932c51af",
   "metadata": {},
   "source": [
    "Since this column has only one kind of value then removing it as it won't affect the model prediction."
   ]
  },
  {
   "cell_type": "code",
   "execution_count": 22,
   "id": "fa474e43-7d1f-4daf-8fe5-e5b8f1b3721e",
   "metadata": {},
   "outputs": [],
   "source": [
    "data.drop(columns= [ 'Switch to order menu' ], inplace =True)"
   ]
  },
  {
   "cell_type": "code",
   "execution_count": 23,
   "id": "4c3b0f37-f4ea-441a-8de8-b55c778c91b1",
   "metadata": {},
   "outputs": [
    {
     "data": {
      "text/plain": [
       "(7671, 10)"
      ]
     },
     "execution_count": 23,
     "metadata": {},
     "output_type": "execute_result"
    }
   ],
   "source": [
    "data.shape"
   ]
  },
  {
   "cell_type": "code",
   "execution_count": 24,
   "id": "78aa3e90-0501-45e0-9e34-2273950fb8ee",
   "metadata": {},
   "outputs": [
    {
     "data": {
      "text/plain": [
       "Index(['City', 'Longitude', 'Latitude', 'Cuisines', 'Average Cost for two',\n",
       "       'Has Table booking', 'Has Online delivery', 'Price range',\n",
       "       'Aggregate rating', 'Votes'],\n",
       "      dtype='object')"
      ]
     },
     "execution_count": 24,
     "metadata": {},
     "output_type": "execute_result"
    }
   ],
   "source": [
    "data.columns"
   ]
  },
  {
   "cell_type": "markdown",
   "id": "84d07b08-678c-4624-9091-6fdc4f850868",
   "metadata": {},
   "source": [
    "Focusing on 'Has table booking' and 'has online delivery' column , the values are in the form of yes and no . So to make them in integer value we can replace Yes with 1 and No with 0 ."
   ]
  },
  {
   "cell_type": "code",
   "execution_count": 25,
   "id": "cf8a4d19-c887-4ee7-ac19-9629515e6885",
   "metadata": {},
   "outputs": [],
   "source": [
    "data['Has Online delivery'].replace('Yes',1, inplace=True)\n",
    "data['Has Online delivery'].replace('No',0, inplace=True)\n"
   ]
  },
  {
   "cell_type": "code",
   "execution_count": 26,
   "id": "c0553fc7-f3c5-48fa-a491-ef4d3e485007",
   "metadata": {},
   "outputs": [
    {
     "data": {
      "text/plain": [
       "Has Online delivery\n",
       "0    5393\n",
       "1    2278\n",
       "Name: count, dtype: int64"
      ]
     },
     "execution_count": 26,
     "metadata": {},
     "output_type": "execute_result"
    }
   ],
   "source": [
    "data['Has Online delivery'].value_counts()"
   ]
  },
  {
   "cell_type": "code",
   "execution_count": 27,
   "id": "754d6ca8-9945-4a0b-bbe6-bc9a1533669b",
   "metadata": {},
   "outputs": [],
   "source": [
    "data['Has Table booking'].replace('Yes',1, inplace=True)\n",
    "data['Has Table booking'].replace('No',0, inplace=True)\n"
   ]
  },
  {
   "cell_type": "code",
   "execution_count": 28,
   "id": "4c55f6f2-183b-4666-bde8-c204a75ad2e9",
   "metadata": {},
   "outputs": [
    {
     "data": {
      "text/plain": [
       "Has Table booking\n",
       "0    6640\n",
       "1    1031\n",
       "Name: count, dtype: int64"
      ]
     },
     "execution_count": 28,
     "metadata": {},
     "output_type": "execute_result"
    }
   ],
   "source": [
    "data['Has Table booking'].value_counts()"
   ]
  },
  {
   "cell_type": "code",
   "execution_count": 29,
   "id": "828a96a7-9d20-4938-8f3c-dd84a194f1f0",
   "metadata": {},
   "outputs": [
    {
     "data": {
      "text/html": [
       "<div>\n",
       "<style scoped>\n",
       "    .dataframe tbody tr th:only-of-type {\n",
       "        vertical-align: middle;\n",
       "    }\n",
       "\n",
       "    .dataframe tbody tr th {\n",
       "        vertical-align: top;\n",
       "    }\n",
       "\n",
       "    .dataframe thead th {\n",
       "        text-align: right;\n",
       "    }\n",
       "</style>\n",
       "<table border=\"1\" class=\"dataframe\">\n",
       "  <thead>\n",
       "    <tr style=\"text-align: right;\">\n",
       "      <th></th>\n",
       "      <th>Longitude</th>\n",
       "      <th>Latitude</th>\n",
       "      <th>Average Cost for two</th>\n",
       "      <th>Has Table booking</th>\n",
       "      <th>Has Online delivery</th>\n",
       "      <th>Price range</th>\n",
       "      <th>Aggregate rating</th>\n",
       "      <th>Votes</th>\n",
       "    </tr>\n",
       "  </thead>\n",
       "  <tbody>\n",
       "    <tr>\n",
       "      <th>Longitude</th>\n",
       "      <td>1.000000</td>\n",
       "      <td>0.997721</td>\n",
       "      <td>0.071854</td>\n",
       "      <td>0.059863</td>\n",
       "      <td>0.138230</td>\n",
       "      <td>0.082031</td>\n",
       "      <td>0.221801</td>\n",
       "      <td>0.071482</td>\n",
       "    </tr>\n",
       "    <tr>\n",
       "      <th>Latitude</th>\n",
       "      <td>0.997721</td>\n",
       "      <td>1.000000</td>\n",
       "      <td>0.070816</td>\n",
       "      <td>0.060228</td>\n",
       "      <td>0.137746</td>\n",
       "      <td>0.081059</td>\n",
       "      <td>0.221399</td>\n",
       "      <td>0.071196</td>\n",
       "    </tr>\n",
       "    <tr>\n",
       "      <th>Average Cost for two</th>\n",
       "      <td>0.071854</td>\n",
       "      <td>0.070816</td>\n",
       "      <td>1.000000</td>\n",
       "      <td>0.643845</td>\n",
       "      <td>0.072198</td>\n",
       "      <td>0.848425</td>\n",
       "      <td>0.329785</td>\n",
       "      <td>0.297741</td>\n",
       "    </tr>\n",
       "    <tr>\n",
       "      <th>Has Table booking</th>\n",
       "      <td>0.059863</td>\n",
       "      <td>0.060228</td>\n",
       "      <td>0.643845</td>\n",
       "      <td>1.000000</td>\n",
       "      <td>0.072631</td>\n",
       "      <td>0.661477</td>\n",
       "      <td>0.251972</td>\n",
       "      <td>0.224377</td>\n",
       "    </tr>\n",
       "    <tr>\n",
       "      <th>Has Online delivery</th>\n",
       "      <td>0.138230</td>\n",
       "      <td>0.137746</td>\n",
       "      <td>0.072198</td>\n",
       "      <td>0.072631</td>\n",
       "      <td>1.000000</td>\n",
       "      <td>0.184855</td>\n",
       "      <td>0.339658</td>\n",
       "      <td>0.121491</td>\n",
       "    </tr>\n",
       "    <tr>\n",
       "      <th>Price range</th>\n",
       "      <td>0.082031</td>\n",
       "      <td>0.081059</td>\n",
       "      <td>0.848425</td>\n",
       "      <td>0.661477</td>\n",
       "      <td>0.184855</td>\n",
       "      <td>1.000000</td>\n",
       "      <td>0.372624</td>\n",
       "      <td>0.325489</td>\n",
       "    </tr>\n",
       "    <tr>\n",
       "      <th>Aggregate rating</th>\n",
       "      <td>0.221801</td>\n",
       "      <td>0.221399</td>\n",
       "      <td>0.329785</td>\n",
       "      <td>0.251972</td>\n",
       "      <td>0.339658</td>\n",
       "      <td>0.372624</td>\n",
       "      <td>1.000000</td>\n",
       "      <td>0.291500</td>\n",
       "    </tr>\n",
       "    <tr>\n",
       "      <th>Votes</th>\n",
       "      <td>0.071482</td>\n",
       "      <td>0.071196</td>\n",
       "      <td>0.297741</td>\n",
       "      <td>0.224377</td>\n",
       "      <td>0.121491</td>\n",
       "      <td>0.325489</td>\n",
       "      <td>0.291500</td>\n",
       "      <td>1.000000</td>\n",
       "    </tr>\n",
       "  </tbody>\n",
       "</table>\n",
       "</div>"
      ],
      "text/plain": [
       "                      Longitude  Latitude  Average Cost for two  \\\n",
       "Longitude              1.000000  0.997721              0.071854   \n",
       "Latitude               0.997721  1.000000              0.070816   \n",
       "Average Cost for two   0.071854  0.070816              1.000000   \n",
       "Has Table booking      0.059863  0.060228              0.643845   \n",
       "Has Online delivery    0.138230  0.137746              0.072198   \n",
       "Price range            0.082031  0.081059              0.848425   \n",
       "Aggregate rating       0.221801  0.221399              0.329785   \n",
       "Votes                  0.071482  0.071196              0.297741   \n",
       "\n",
       "                      Has Table booking  Has Online delivery  Price range  \\\n",
       "Longitude                      0.059863             0.138230     0.082031   \n",
       "Latitude                       0.060228             0.137746     0.081059   \n",
       "Average Cost for two           0.643845             0.072198     0.848425   \n",
       "Has Table booking              1.000000             0.072631     0.661477   \n",
       "Has Online delivery            0.072631             1.000000     0.184855   \n",
       "Price range                    0.661477             0.184855     1.000000   \n",
       "Aggregate rating               0.251972             0.339658     0.372624   \n",
       "Votes                          0.224377             0.121491     0.325489   \n",
       "\n",
       "                      Aggregate rating     Votes  \n",
       "Longitude                     0.221801  0.071482  \n",
       "Latitude                      0.221399  0.071196  \n",
       "Average Cost for two          0.329785  0.297741  \n",
       "Has Table booking             0.251972  0.224377  \n",
       "Has Online delivery           0.339658  0.121491  \n",
       "Price range                   0.372624  0.325489  \n",
       "Aggregate rating              1.000000  0.291500  \n",
       "Votes                         0.291500  1.000000  "
      ]
     },
     "execution_count": 29,
     "metadata": {},
     "output_type": "execute_result"
    }
   ],
   "source": [
    "numeric_data = data.select_dtypes(include=[float, int])\n",
    "correlation_matrix = numeric_data.corr()\n",
    "correlation_matrix\n"
   ]
  },
  {
   "cell_type": "code",
   "execution_count": 30,
   "id": "11bc3f1f-3c2b-4876-b941-643f39216e42",
   "metadata": {},
   "outputs": [
    {
     "data": {
      "text/plain": [
       "Index(['City', 'Longitude', 'Latitude', 'Cuisines', 'Average Cost for two',\n",
       "       'Has Table booking', 'Has Online delivery', 'Price range',\n",
       "       'Aggregate rating', 'Votes'],\n",
       "      dtype='object')"
      ]
     },
     "execution_count": 30,
     "metadata": {},
     "output_type": "execute_result"
    }
   ],
   "source": [
    "data.columns"
   ]
  },
  {
   "cell_type": "code",
   "execution_count": 31,
   "id": "12d53b7a-3b57-438d-ac2a-ddc6a71aae4f",
   "metadata": {},
   "outputs": [
    {
     "data": {
      "text/plain": [
       "<bound method NDFrame.describe of 1161    Gurgaon\n",
       "1162    Gurgaon\n",
       "1163    Gurgaon\n",
       "1164    Gurgaon\n",
       "1165    Gurgaon\n",
       "         ...   \n",
       "9108      Noida\n",
       "9109      Noida\n",
       "9110      Noida\n",
       "9111      Noida\n",
       "9112      Noida\n",
       "Name: City, Length: 7671, dtype: object>"
      ]
     },
     "execution_count": 31,
     "metadata": {},
     "output_type": "execute_result"
    }
   ],
   "source": [
    "data['City'].describe"
   ]
  },
  {
   "cell_type": "code",
   "execution_count": 32,
   "id": "0627ec38-ee59-4a06-96cb-528c9e887f87",
   "metadata": {},
   "outputs": [],
   "source": [
    "# Select only the numeric columns for correlation\n",
    "numeric_data = data.select_dtypes(include=[float, int])\n",
    "correlation_matrix = numeric_data.corr()\n"
   ]
  },
  {
   "cell_type": "markdown",
   "id": "052a97d6-14b7-403d-846f-1977f373919a",
   "metadata": {},
   "source": [
    "Data.corr() was giving an error due to Gurgaon being treated as string in some coulmn , so to only include numerical column I did the above step"
   ]
  },
  {
   "cell_type": "code",
   "execution_count": 33,
   "id": "5bd41542-f3ff-4b3c-bb2b-4206e95c2f45",
   "metadata": {},
   "outputs": [
    {
     "data": {
      "text/html": [
       "<div>\n",
       "<style scoped>\n",
       "    .dataframe tbody tr th:only-of-type {\n",
       "        vertical-align: middle;\n",
       "    }\n",
       "\n",
       "    .dataframe tbody tr th {\n",
       "        vertical-align: top;\n",
       "    }\n",
       "\n",
       "    .dataframe thead th {\n",
       "        text-align: right;\n",
       "    }\n",
       "</style>\n",
       "<table border=\"1\" class=\"dataframe\">\n",
       "  <thead>\n",
       "    <tr style=\"text-align: right;\">\n",
       "      <th></th>\n",
       "      <th>Longitude</th>\n",
       "      <th>Latitude</th>\n",
       "      <th>Average Cost for two</th>\n",
       "      <th>Has Table booking</th>\n",
       "      <th>Has Online delivery</th>\n",
       "      <th>Price range</th>\n",
       "      <th>Aggregate rating</th>\n",
       "      <th>Votes</th>\n",
       "    </tr>\n",
       "  </thead>\n",
       "  <tbody>\n",
       "    <tr>\n",
       "      <th>Longitude</th>\n",
       "      <td>1.000000</td>\n",
       "      <td>0.997721</td>\n",
       "      <td>0.071854</td>\n",
       "      <td>0.059863</td>\n",
       "      <td>0.138230</td>\n",
       "      <td>0.082031</td>\n",
       "      <td>0.221801</td>\n",
       "      <td>0.071482</td>\n",
       "    </tr>\n",
       "    <tr>\n",
       "      <th>Latitude</th>\n",
       "      <td>0.997721</td>\n",
       "      <td>1.000000</td>\n",
       "      <td>0.070816</td>\n",
       "      <td>0.060228</td>\n",
       "      <td>0.137746</td>\n",
       "      <td>0.081059</td>\n",
       "      <td>0.221399</td>\n",
       "      <td>0.071196</td>\n",
       "    </tr>\n",
       "    <tr>\n",
       "      <th>Average Cost for two</th>\n",
       "      <td>0.071854</td>\n",
       "      <td>0.070816</td>\n",
       "      <td>1.000000</td>\n",
       "      <td>0.643845</td>\n",
       "      <td>0.072198</td>\n",
       "      <td>0.848425</td>\n",
       "      <td>0.329785</td>\n",
       "      <td>0.297741</td>\n",
       "    </tr>\n",
       "    <tr>\n",
       "      <th>Has Table booking</th>\n",
       "      <td>0.059863</td>\n",
       "      <td>0.060228</td>\n",
       "      <td>0.643845</td>\n",
       "      <td>1.000000</td>\n",
       "      <td>0.072631</td>\n",
       "      <td>0.661477</td>\n",
       "      <td>0.251972</td>\n",
       "      <td>0.224377</td>\n",
       "    </tr>\n",
       "    <tr>\n",
       "      <th>Has Online delivery</th>\n",
       "      <td>0.138230</td>\n",
       "      <td>0.137746</td>\n",
       "      <td>0.072198</td>\n",
       "      <td>0.072631</td>\n",
       "      <td>1.000000</td>\n",
       "      <td>0.184855</td>\n",
       "      <td>0.339658</td>\n",
       "      <td>0.121491</td>\n",
       "    </tr>\n",
       "    <tr>\n",
       "      <th>Price range</th>\n",
       "      <td>0.082031</td>\n",
       "      <td>0.081059</td>\n",
       "      <td>0.848425</td>\n",
       "      <td>0.661477</td>\n",
       "      <td>0.184855</td>\n",
       "      <td>1.000000</td>\n",
       "      <td>0.372624</td>\n",
       "      <td>0.325489</td>\n",
       "    </tr>\n",
       "    <tr>\n",
       "      <th>Aggregate rating</th>\n",
       "      <td>0.221801</td>\n",
       "      <td>0.221399</td>\n",
       "      <td>0.329785</td>\n",
       "      <td>0.251972</td>\n",
       "      <td>0.339658</td>\n",
       "      <td>0.372624</td>\n",
       "      <td>1.000000</td>\n",
       "      <td>0.291500</td>\n",
       "    </tr>\n",
       "    <tr>\n",
       "      <th>Votes</th>\n",
       "      <td>0.071482</td>\n",
       "      <td>0.071196</td>\n",
       "      <td>0.297741</td>\n",
       "      <td>0.224377</td>\n",
       "      <td>0.121491</td>\n",
       "      <td>0.325489</td>\n",
       "      <td>0.291500</td>\n",
       "      <td>1.000000</td>\n",
       "    </tr>\n",
       "  </tbody>\n",
       "</table>\n",
       "</div>"
      ],
      "text/plain": [
       "                      Longitude  Latitude  Average Cost for two  \\\n",
       "Longitude              1.000000  0.997721              0.071854   \n",
       "Latitude               0.997721  1.000000              0.070816   \n",
       "Average Cost for two   0.071854  0.070816              1.000000   \n",
       "Has Table booking      0.059863  0.060228              0.643845   \n",
       "Has Online delivery    0.138230  0.137746              0.072198   \n",
       "Price range            0.082031  0.081059              0.848425   \n",
       "Aggregate rating       0.221801  0.221399              0.329785   \n",
       "Votes                  0.071482  0.071196              0.297741   \n",
       "\n",
       "                      Has Table booking  Has Online delivery  Price range  \\\n",
       "Longitude                      0.059863             0.138230     0.082031   \n",
       "Latitude                       0.060228             0.137746     0.081059   \n",
       "Average Cost for two           0.643845             0.072198     0.848425   \n",
       "Has Table booking              1.000000             0.072631     0.661477   \n",
       "Has Online delivery            0.072631             1.000000     0.184855   \n",
       "Price range                    0.661477             0.184855     1.000000   \n",
       "Aggregate rating               0.251972             0.339658     0.372624   \n",
       "Votes                          0.224377             0.121491     0.325489   \n",
       "\n",
       "                      Aggregate rating     Votes  \n",
       "Longitude                     0.221801  0.071482  \n",
       "Latitude                      0.221399  0.071196  \n",
       "Average Cost for two          0.329785  0.297741  \n",
       "Has Table booking             0.251972  0.224377  \n",
       "Has Online delivery           0.339658  0.121491  \n",
       "Price range                   0.372624  0.325489  \n",
       "Aggregate rating              1.000000  0.291500  \n",
       "Votes                         0.291500  1.000000  "
      ]
     },
     "execution_count": 33,
     "metadata": {},
     "output_type": "execute_result"
    }
   ],
   "source": [
    "numeric_data.corr()"
   ]
  },
  {
   "cell_type": "code",
   "execution_count": 34,
   "id": "421d7f15-8e4f-433c-a4de-e7cdeaea1fcd",
   "metadata": {},
   "outputs": [
    {
     "data": {
      "text/plain": [
       "(7671, 10)"
      ]
     },
     "execution_count": 34,
     "metadata": {},
     "output_type": "execute_result"
    }
   ],
   "source": [
    "data.shape"
   ]
  },
  {
   "cell_type": "code",
   "execution_count": 35,
   "id": "75471945-4031-4807-b604-fa93b9242fde",
   "metadata": {},
   "outputs": [
    {
     "data": {
      "text/plain": [
       "(7671, 8)"
      ]
     },
     "execution_count": 35,
     "metadata": {},
     "output_type": "execute_result"
    }
   ],
   "source": [
    "numeric_data.shape\n",
    "#City and Cuisines are excluded"
   ]
  },
  {
   "cell_type": "markdown",
   "id": "a0049cb7-d7ed-452b-be28-7491bf43da15",
   "metadata": {},
   "source": [
    "Since We can see that Longitude latitude and Has online Delivery coulmn are not too corelated and also the Price Range and Average cost for two are also the same so they be dropped too ."
   ]
  },
  {
   "cell_type": "code",
   "execution_count": 36,
   "id": "2578b11e-0fe2-40a0-b222-e19199bbd601",
   "metadata": {},
   "outputs": [],
   "source": [
    "data.drop(columns= [ 'Longitude','Latitude', 'Has Online delivery', 'Price range' ], inplace =True)"
   ]
  },
  {
   "cell_type": "code",
   "execution_count": 37,
   "id": "6a7f168b-16e3-4577-9d4c-cbd3af3c7bd9",
   "metadata": {},
   "outputs": [
    {
     "data": {
      "text/html": [
       "<div>\n",
       "<style scoped>\n",
       "    .dataframe tbody tr th:only-of-type {\n",
       "        vertical-align: middle;\n",
       "    }\n",
       "\n",
       "    .dataframe tbody tr th {\n",
       "        vertical-align: top;\n",
       "    }\n",
       "\n",
       "    .dataframe thead th {\n",
       "        text-align: right;\n",
       "    }\n",
       "</style>\n",
       "<table border=\"1\" class=\"dataframe\">\n",
       "  <thead>\n",
       "    <tr style=\"text-align: right;\">\n",
       "      <th></th>\n",
       "      <th>City</th>\n",
       "      <th>Cuisines</th>\n",
       "      <th>Average Cost for two</th>\n",
       "      <th>Has Table booking</th>\n",
       "      <th>Aggregate rating</th>\n",
       "      <th>Votes</th>\n",
       "    </tr>\n",
       "  </thead>\n",
       "  <tbody>\n",
       "    <tr>\n",
       "      <th>1161</th>\n",
       "      <td>Gurgaon</td>\n",
       "      <td>Cafe, Beverages</td>\n",
       "      <td>350</td>\n",
       "      <td>0</td>\n",
       "      <td>3.4</td>\n",
       "      <td>16</td>\n",
       "    </tr>\n",
       "    <tr>\n",
       "      <th>1162</th>\n",
       "      <td>Gurgaon</td>\n",
       "      <td>North Indian, Mughlai</td>\n",
       "      <td>800</td>\n",
       "      <td>1</td>\n",
       "      <td>2.7</td>\n",
       "      <td>80</td>\n",
       "    </tr>\n",
       "    <tr>\n",
       "      <th>1163</th>\n",
       "      <td>Gurgaon</td>\n",
       "      <td>North Indian, Mughlai</td>\n",
       "      <td>2000</td>\n",
       "      <td>1</td>\n",
       "      <td>4.3</td>\n",
       "      <td>1887</td>\n",
       "    </tr>\n",
       "    <tr>\n",
       "      <th>1164</th>\n",
       "      <td>Gurgaon</td>\n",
       "      <td>South Indian, Seafood, Kerala</td>\n",
       "      <td>1400</td>\n",
       "      <td>1</td>\n",
       "      <td>4.0</td>\n",
       "      <td>802</td>\n",
       "    </tr>\n",
       "    <tr>\n",
       "      <th>1165</th>\n",
       "      <td>Gurgaon</td>\n",
       "      <td>Bakery</td>\n",
       "      <td>250</td>\n",
       "      <td>0</td>\n",
       "      <td>3.0</td>\n",
       "      <td>4</td>\n",
       "    </tr>\n",
       "    <tr>\n",
       "      <th>...</th>\n",
       "      <td>...</td>\n",
       "      <td>...</td>\n",
       "      <td>...</td>\n",
       "      <td>...</td>\n",
       "      <td>...</td>\n",
       "      <td>...</td>\n",
       "    </tr>\n",
       "    <tr>\n",
       "      <th>9108</th>\n",
       "      <td>Noida</td>\n",
       "      <td>North Indian, Chinese</td>\n",
       "      <td>700</td>\n",
       "      <td>0</td>\n",
       "      <td>2.6</td>\n",
       "      <td>34</td>\n",
       "    </tr>\n",
       "    <tr>\n",
       "      <th>9109</th>\n",
       "      <td>Noida</td>\n",
       "      <td>Fast Food</td>\n",
       "      <td>400</td>\n",
       "      <td>0</td>\n",
       "      <td>0.0</td>\n",
       "      <td>1</td>\n",
       "    </tr>\n",
       "    <tr>\n",
       "      <th>9110</th>\n",
       "      <td>Noida</td>\n",
       "      <td>Fast Food</td>\n",
       "      <td>600</td>\n",
       "      <td>0</td>\n",
       "      <td>0.0</td>\n",
       "      <td>3</td>\n",
       "    </tr>\n",
       "    <tr>\n",
       "      <th>9111</th>\n",
       "      <td>Noida</td>\n",
       "      <td>North Indian, Chinese</td>\n",
       "      <td>500</td>\n",
       "      <td>0</td>\n",
       "      <td>0.0</td>\n",
       "      <td>0</td>\n",
       "    </tr>\n",
       "    <tr>\n",
       "      <th>9112</th>\n",
       "      <td>Noida</td>\n",
       "      <td>Raw Meats, Fast Food</td>\n",
       "      <td>250</td>\n",
       "      <td>0</td>\n",
       "      <td>0.0</td>\n",
       "      <td>1</td>\n",
       "    </tr>\n",
       "  </tbody>\n",
       "</table>\n",
       "<p>7671 rows × 6 columns</p>\n",
       "</div>"
      ],
      "text/plain": [
       "         City                       Cuisines  Average Cost for two  \\\n",
       "1161  Gurgaon                Cafe, Beverages                   350   \n",
       "1162  Gurgaon          North Indian, Mughlai                   800   \n",
       "1163  Gurgaon          North Indian, Mughlai                  2000   \n",
       "1164  Gurgaon  South Indian, Seafood, Kerala                  1400   \n",
       "1165  Gurgaon                         Bakery                   250   \n",
       "...       ...                            ...                   ...   \n",
       "9108    Noida          North Indian, Chinese                   700   \n",
       "9109    Noida                      Fast Food                   400   \n",
       "9110    Noida                      Fast Food                   600   \n",
       "9111    Noida          North Indian, Chinese                   500   \n",
       "9112    Noida           Raw Meats, Fast Food                   250   \n",
       "\n",
       "      Has Table booking  Aggregate rating  Votes  \n",
       "1161                  0               3.4     16  \n",
       "1162                  1               2.7     80  \n",
       "1163                  1               4.3   1887  \n",
       "1164                  1               4.0    802  \n",
       "1165                  0               3.0      4  \n",
       "...                 ...               ...    ...  \n",
       "9108                  0               2.6     34  \n",
       "9109                  0               0.0      1  \n",
       "9110                  0               0.0      3  \n",
       "9111                  0               0.0      0  \n",
       "9112                  0               0.0      1  \n",
       "\n",
       "[7671 rows x 6 columns]"
      ]
     },
     "execution_count": 37,
     "metadata": {},
     "output_type": "execute_result"
    }
   ],
   "source": [
    "data"
   ]
  },
  {
   "cell_type": "code",
   "execution_count": 38,
   "id": "b3f3a2de-f674-4c26-8151-baa0135b3696",
   "metadata": {},
   "outputs": [
    {
     "data": {
      "text/plain": [
       "Cuisines\n",
       "Afghani                                       512.500000\n",
       "Afghani, Mughlai, Chinese                     500.000000\n",
       "Afghani, North Indian                         900.000000\n",
       "Afghani, North Indian, Pakistani, Arabian     500.000000\n",
       "American                                      666.666667\n",
       "                                                ...     \n",
       "Tibetan, Street Food                          100.000000\n",
       "Turkish                                       600.000000\n",
       "Turkish, Arabian, Moroccan, Lebanese          400.000000\n",
       "Turkish, Mediterranean, Middle Eastern       2000.000000\n",
       "Vietnamese                                   1000.000000\n",
       "Name: Average Cost for two, Length: 1143, dtype: float64"
      ]
     },
     "execution_count": 38,
     "metadata": {},
     "output_type": "execute_result"
    }
   ],
   "source": [
    "data.groupby('Cuisines')['Average Cost for two'].mean()"
   ]
  },
  {
   "cell_type": "markdown",
   "id": "32081019-2e02-40cd-8654-a098979795ec",
   "metadata": {},
   "source": [
    "Now We have to replace the cuisines with there mean value so that we can inject it into the model ."
   ]
  },
  {
   "cell_type": "markdown",
   "id": "e8846b96-68f9-4799-b893-a1d8ebe40976",
   "metadata": {},
   "source": [
    "We can do this using merge function taking cuisine as a common column in two dataframes."
   ]
  },
  {
   "cell_type": "code",
   "execution_count": 39,
   "id": "f3cd073d-872f-4af1-8e31-7cbbd89bb0c7",
   "metadata": {},
   "outputs": [],
   "source": [
    "cuisine=data.groupby('Cuisines')['Average Cost for two'].mean().reset_index()"
   ]
  },
  {
   "cell_type": "code",
   "execution_count": 40,
   "id": "48d1e2e2-5313-472d-9ec2-287a190e9703",
   "metadata": {},
   "outputs": [],
   "source": [
    "new_data= data.merge(cuisine,on ='Cuisines')"
   ]
  },
  {
   "cell_type": "code",
   "execution_count": 41,
   "id": "0346afee-7d50-4a1e-bece-0b1bb5ff9e42",
   "metadata": {},
   "outputs": [],
   "source": [
    "new_data.drop(columns=['Cuisines'], inplace =True)"
   ]
  },
  {
   "cell_type": "code",
   "execution_count": 42,
   "id": "3a03d70b-67a9-43d8-b350-2759cea53cc1",
   "metadata": {},
   "outputs": [
    {
     "data": {
      "text/html": [
       "<div>\n",
       "<style scoped>\n",
       "    .dataframe tbody tr th:only-of-type {\n",
       "        vertical-align: middle;\n",
       "    }\n",
       "\n",
       "    .dataframe tbody tr th {\n",
       "        vertical-align: top;\n",
       "    }\n",
       "\n",
       "    .dataframe thead th {\n",
       "        text-align: right;\n",
       "    }\n",
       "</style>\n",
       "<table border=\"1\" class=\"dataframe\">\n",
       "  <thead>\n",
       "    <tr style=\"text-align: right;\">\n",
       "      <th></th>\n",
       "      <th>City</th>\n",
       "      <th>Average Cost for two_x</th>\n",
       "      <th>Has Table booking</th>\n",
       "      <th>Aggregate rating</th>\n",
       "      <th>Votes</th>\n",
       "      <th>Average Cost for two_y</th>\n",
       "    </tr>\n",
       "  </thead>\n",
       "  <tbody>\n",
       "    <tr>\n",
       "      <th>0</th>\n",
       "      <td>Gurgaon</td>\n",
       "      <td>350</td>\n",
       "      <td>0</td>\n",
       "      <td>3.4</td>\n",
       "      <td>16</td>\n",
       "      <td>416.666667</td>\n",
       "    </tr>\n",
       "    <tr>\n",
       "      <th>1</th>\n",
       "      <td>New Delhi</td>\n",
       "      <td>200</td>\n",
       "      <td>0</td>\n",
       "      <td>0.0</td>\n",
       "      <td>0</td>\n",
       "      <td>416.666667</td>\n",
       "    </tr>\n",
       "    <tr>\n",
       "      <th>2</th>\n",
       "      <td>New Delhi</td>\n",
       "      <td>700</td>\n",
       "      <td>0</td>\n",
       "      <td>4.1</td>\n",
       "      <td>92</td>\n",
       "      <td>416.666667</td>\n",
       "    </tr>\n",
       "    <tr>\n",
       "      <th>3</th>\n",
       "      <td>Gurgaon</td>\n",
       "      <td>800</td>\n",
       "      <td>1</td>\n",
       "      <td>2.7</td>\n",
       "      <td>80</td>\n",
       "      <td>755.511551</td>\n",
       "    </tr>\n",
       "    <tr>\n",
       "      <th>4</th>\n",
       "      <td>Gurgaon</td>\n",
       "      <td>2000</td>\n",
       "      <td>1</td>\n",
       "      <td>4.3</td>\n",
       "      <td>1887</td>\n",
       "      <td>755.511551</td>\n",
       "    </tr>\n",
       "    <tr>\n",
       "      <th>...</th>\n",
       "      <td>...</td>\n",
       "      <td>...</td>\n",
       "      <td>...</td>\n",
       "      <td>...</td>\n",
       "      <td>...</td>\n",
       "      <td>...</td>\n",
       "    </tr>\n",
       "    <tr>\n",
       "      <th>7666</th>\n",
       "      <td>Noida</td>\n",
       "      <td>2500</td>\n",
       "      <td>1</td>\n",
       "      <td>2.2</td>\n",
       "      <td>116</td>\n",
       "      <td>2500.000000</td>\n",
       "    </tr>\n",
       "    <tr>\n",
       "      <th>7667</th>\n",
       "      <td>Noida</td>\n",
       "      <td>200</td>\n",
       "      <td>0</td>\n",
       "      <td>3.0</td>\n",
       "      <td>10</td>\n",
       "      <td>200.000000</td>\n",
       "    </tr>\n",
       "    <tr>\n",
       "      <th>7668</th>\n",
       "      <td>Noida</td>\n",
       "      <td>450</td>\n",
       "      <td>0</td>\n",
       "      <td>3.5</td>\n",
       "      <td>105</td>\n",
       "      <td>450.000000</td>\n",
       "    </tr>\n",
       "    <tr>\n",
       "      <th>7669</th>\n",
       "      <td>Noida</td>\n",
       "      <td>1000</td>\n",
       "      <td>1</td>\n",
       "      <td>0.0</td>\n",
       "      <td>0</td>\n",
       "      <td>1000.000000</td>\n",
       "    </tr>\n",
       "    <tr>\n",
       "      <th>7670</th>\n",
       "      <td>Noida</td>\n",
       "      <td>450</td>\n",
       "      <td>0</td>\n",
       "      <td>2.0</td>\n",
       "      <td>161</td>\n",
       "      <td>450.000000</td>\n",
       "    </tr>\n",
       "  </tbody>\n",
       "</table>\n",
       "<p>7671 rows × 6 columns</p>\n",
       "</div>"
      ],
      "text/plain": [
       "           City  Average Cost for two_x  Has Table booking  Aggregate rating  \\\n",
       "0       Gurgaon                     350                  0               3.4   \n",
       "1     New Delhi                     200                  0               0.0   \n",
       "2     New Delhi                     700                  0               4.1   \n",
       "3       Gurgaon                     800                  1               2.7   \n",
       "4       Gurgaon                    2000                  1               4.3   \n",
       "...         ...                     ...                ...               ...   \n",
       "7666      Noida                    2500                  1               2.2   \n",
       "7667      Noida                     200                  0               3.0   \n",
       "7668      Noida                     450                  0               3.5   \n",
       "7669      Noida                    1000                  1               0.0   \n",
       "7670      Noida                     450                  0               2.0   \n",
       "\n",
       "      Votes  Average Cost for two_y  \n",
       "0        16              416.666667  \n",
       "1         0              416.666667  \n",
       "2        92              416.666667  \n",
       "3        80              755.511551  \n",
       "4      1887              755.511551  \n",
       "...     ...                     ...  \n",
       "7666    116             2500.000000  \n",
       "7667     10              200.000000  \n",
       "7668    105              450.000000  \n",
       "7669      0             1000.000000  \n",
       "7670    161              450.000000  \n",
       "\n",
       "[7671 rows x 6 columns]"
      ]
     },
     "execution_count": 42,
     "metadata": {},
     "output_type": "execute_result"
    }
   ],
   "source": [
    "new_data"
   ]
  },
  {
   "cell_type": "code",
   "execution_count": 43,
   "id": "4ab662f1-31f7-4c44-a696-ecc40794a698",
   "metadata": {},
   "outputs": [],
   "source": [
    "new_data.rename(columns={'Average Cost for two_x' :'cost','Average Cost for two_y':'cuisine'}, inplace = True)"
   ]
  },
  {
   "cell_type": "code",
   "execution_count": 44,
   "id": "0a2f5825-8860-496e-b85b-116f4f2df0d4",
   "metadata": {},
   "outputs": [
    {
     "data": {
      "text/html": [
       "<div>\n",
       "<style scoped>\n",
       "    .dataframe tbody tr th:only-of-type {\n",
       "        vertical-align: middle;\n",
       "    }\n",
       "\n",
       "    .dataframe tbody tr th {\n",
       "        vertical-align: top;\n",
       "    }\n",
       "\n",
       "    .dataframe thead th {\n",
       "        text-align: right;\n",
       "    }\n",
       "</style>\n",
       "<table border=\"1\" class=\"dataframe\">\n",
       "  <thead>\n",
       "    <tr style=\"text-align: right;\">\n",
       "      <th></th>\n",
       "      <th>City</th>\n",
       "      <th>cost</th>\n",
       "      <th>Has Table booking</th>\n",
       "      <th>Aggregate rating</th>\n",
       "      <th>Votes</th>\n",
       "      <th>cuisine</th>\n",
       "    </tr>\n",
       "  </thead>\n",
       "  <tbody>\n",
       "    <tr>\n",
       "      <th>0</th>\n",
       "      <td>Gurgaon</td>\n",
       "      <td>350</td>\n",
       "      <td>0</td>\n",
       "      <td>3.4</td>\n",
       "      <td>16</td>\n",
       "      <td>416.666667</td>\n",
       "    </tr>\n",
       "    <tr>\n",
       "      <th>1</th>\n",
       "      <td>New Delhi</td>\n",
       "      <td>200</td>\n",
       "      <td>0</td>\n",
       "      <td>0.0</td>\n",
       "      <td>0</td>\n",
       "      <td>416.666667</td>\n",
       "    </tr>\n",
       "    <tr>\n",
       "      <th>2</th>\n",
       "      <td>New Delhi</td>\n",
       "      <td>700</td>\n",
       "      <td>0</td>\n",
       "      <td>4.1</td>\n",
       "      <td>92</td>\n",
       "      <td>416.666667</td>\n",
       "    </tr>\n",
       "    <tr>\n",
       "      <th>3</th>\n",
       "      <td>Gurgaon</td>\n",
       "      <td>800</td>\n",
       "      <td>1</td>\n",
       "      <td>2.7</td>\n",
       "      <td>80</td>\n",
       "      <td>755.511551</td>\n",
       "    </tr>\n",
       "    <tr>\n",
       "      <th>4</th>\n",
       "      <td>Gurgaon</td>\n",
       "      <td>2000</td>\n",
       "      <td>1</td>\n",
       "      <td>4.3</td>\n",
       "      <td>1887</td>\n",
       "      <td>755.511551</td>\n",
       "    </tr>\n",
       "  </tbody>\n",
       "</table>\n",
       "</div>"
      ],
      "text/plain": [
       "        City  cost  Has Table booking  Aggregate rating  Votes     cuisine\n",
       "0    Gurgaon   350                  0               3.4     16  416.666667\n",
       "1  New Delhi   200                  0               0.0      0  416.666667\n",
       "2  New Delhi   700                  0               4.1     92  416.666667\n",
       "3    Gurgaon   800                  1               2.7     80  755.511551\n",
       "4    Gurgaon  2000                  1               4.3   1887  755.511551"
      ]
     },
     "execution_count": 44,
     "metadata": {},
     "output_type": "execute_result"
    }
   ],
   "source": [
    "new_data.head()"
   ]
  },
  {
   "cell_type": "markdown",
   "id": "97d89f57-5937-450a-9874-b6556f15892a",
   "metadata": {},
   "source": [
    "Since the value of x and y for our model would create some issue while using iloc , so to remove that issue We can send columns into dataframe by our own choice like sending the value of cost at the very last."
   ]
  },
  {
   "cell_type": "code",
   "execution_count": 45,
   "id": "6c5d2b74-16a2-4b7a-8122-f2a0711b9a68",
   "metadata": {},
   "outputs": [
    {
     "data": {
      "text/html": [
       "<div>\n",
       "<style scoped>\n",
       "    .dataframe tbody tr th:only-of-type {\n",
       "        vertical-align: middle;\n",
       "    }\n",
       "\n",
       "    .dataframe tbody tr th {\n",
       "        vertical-align: top;\n",
       "    }\n",
       "\n",
       "    .dataframe thead th {\n",
       "        text-align: right;\n",
       "    }\n",
       "</style>\n",
       "<table border=\"1\" class=\"dataframe\">\n",
       "  <thead>\n",
       "    <tr style=\"text-align: right;\">\n",
       "      <th></th>\n",
       "      <th>City</th>\n",
       "      <th>Has Table booking</th>\n",
       "      <th>Aggregate rating</th>\n",
       "      <th>Votes</th>\n",
       "      <th>cuisine</th>\n",
       "      <th>cost</th>\n",
       "    </tr>\n",
       "  </thead>\n",
       "  <tbody>\n",
       "    <tr>\n",
       "      <th>0</th>\n",
       "      <td>Gurgaon</td>\n",
       "      <td>0</td>\n",
       "      <td>3.4</td>\n",
       "      <td>16</td>\n",
       "      <td>416.666667</td>\n",
       "      <td>350</td>\n",
       "    </tr>\n",
       "    <tr>\n",
       "      <th>1</th>\n",
       "      <td>New Delhi</td>\n",
       "      <td>0</td>\n",
       "      <td>0.0</td>\n",
       "      <td>0</td>\n",
       "      <td>416.666667</td>\n",
       "      <td>200</td>\n",
       "    </tr>\n",
       "    <tr>\n",
       "      <th>2</th>\n",
       "      <td>New Delhi</td>\n",
       "      <td>0</td>\n",
       "      <td>4.1</td>\n",
       "      <td>92</td>\n",
       "      <td>416.666667</td>\n",
       "      <td>700</td>\n",
       "    </tr>\n",
       "    <tr>\n",
       "      <th>3</th>\n",
       "      <td>Gurgaon</td>\n",
       "      <td>1</td>\n",
       "      <td>2.7</td>\n",
       "      <td>80</td>\n",
       "      <td>755.511551</td>\n",
       "      <td>800</td>\n",
       "    </tr>\n",
       "    <tr>\n",
       "      <th>4</th>\n",
       "      <td>Gurgaon</td>\n",
       "      <td>1</td>\n",
       "      <td>4.3</td>\n",
       "      <td>1887</td>\n",
       "      <td>755.511551</td>\n",
       "      <td>2000</td>\n",
       "    </tr>\n",
       "  </tbody>\n",
       "</table>\n",
       "</div>"
      ],
      "text/plain": [
       "        City  Has Table booking  Aggregate rating  Votes     cuisine  cost\n",
       "0    Gurgaon                  0               3.4     16  416.666667   350\n",
       "1  New Delhi                  0               0.0      0  416.666667   200\n",
       "2  New Delhi                  0               4.1     92  416.666667   700\n",
       "3    Gurgaon                  1               2.7     80  755.511551   800\n",
       "4    Gurgaon                  1               4.3   1887  755.511551  2000"
      ]
     },
     "execution_count": 45,
     "metadata": {},
     "output_type": "execute_result"
    }
   ],
   "source": [
    "new_data=new_data[['City','Has Table booking','Aggregate rating','Votes','cuisine','cost']]\n",
    "new_data.head(5)"
   ]
  },
  {
   "cell_type": "code",
   "execution_count": 46,
   "id": "7b01a11d-a648-4bdf-95e6-4af1242323e8",
   "metadata": {},
   "outputs": [
    {
     "data": {
      "text/html": [
       "<div>\n",
       "<style scoped>\n",
       "    .dataframe tbody tr th:only-of-type {\n",
       "        vertical-align: middle;\n",
       "    }\n",
       "\n",
       "    .dataframe tbody tr th {\n",
       "        vertical-align: top;\n",
       "    }\n",
       "\n",
       "    .dataframe thead th {\n",
       "        text-align: right;\n",
       "    }\n",
       "</style>\n",
       "<table border=\"1\" class=\"dataframe\">\n",
       "  <thead>\n",
       "    <tr style=\"text-align: right;\">\n",
       "      <th></th>\n",
       "      <th>City</th>\n",
       "      <th>Has Table booking</th>\n",
       "      <th>Aggregate rating</th>\n",
       "      <th>Votes</th>\n",
       "      <th>cuisine</th>\n",
       "      <th>cost</th>\n",
       "    </tr>\n",
       "  </thead>\n",
       "  <tbody>\n",
       "    <tr>\n",
       "      <th>0</th>\n",
       "      <td>Gurgaon</td>\n",
       "      <td>0</td>\n",
       "      <td>3.4</td>\n",
       "      <td>16</td>\n",
       "      <td>416.666667</td>\n",
       "      <td>350</td>\n",
       "    </tr>\n",
       "    <tr>\n",
       "      <th>1</th>\n",
       "      <td>New Delhi</td>\n",
       "      <td>0</td>\n",
       "      <td>0.0</td>\n",
       "      <td>0</td>\n",
       "      <td>416.666667</td>\n",
       "      <td>200</td>\n",
       "    </tr>\n",
       "    <tr>\n",
       "      <th>2</th>\n",
       "      <td>New Delhi</td>\n",
       "      <td>0</td>\n",
       "      <td>4.1</td>\n",
       "      <td>92</td>\n",
       "      <td>416.666667</td>\n",
       "      <td>700</td>\n",
       "    </tr>\n",
       "    <tr>\n",
       "      <th>3</th>\n",
       "      <td>Gurgaon</td>\n",
       "      <td>1</td>\n",
       "      <td>2.7</td>\n",
       "      <td>80</td>\n",
       "      <td>755.511551</td>\n",
       "      <td>800</td>\n",
       "    </tr>\n",
       "    <tr>\n",
       "      <th>4</th>\n",
       "      <td>Gurgaon</td>\n",
       "      <td>1</td>\n",
       "      <td>4.3</td>\n",
       "      <td>1887</td>\n",
       "      <td>755.511551</td>\n",
       "      <td>2000</td>\n",
       "    </tr>\n",
       "    <tr>\n",
       "      <th>...</th>\n",
       "      <td>...</td>\n",
       "      <td>...</td>\n",
       "      <td>...</td>\n",
       "      <td>...</td>\n",
       "      <td>...</td>\n",
       "      <td>...</td>\n",
       "    </tr>\n",
       "    <tr>\n",
       "      <th>7666</th>\n",
       "      <td>Noida</td>\n",
       "      <td>1</td>\n",
       "      <td>2.2</td>\n",
       "      <td>116</td>\n",
       "      <td>2500.000000</td>\n",
       "      <td>2500</td>\n",
       "    </tr>\n",
       "    <tr>\n",
       "      <th>7667</th>\n",
       "      <td>Noida</td>\n",
       "      <td>0</td>\n",
       "      <td>3.0</td>\n",
       "      <td>10</td>\n",
       "      <td>200.000000</td>\n",
       "      <td>200</td>\n",
       "    </tr>\n",
       "    <tr>\n",
       "      <th>7668</th>\n",
       "      <td>Noida</td>\n",
       "      <td>0</td>\n",
       "      <td>3.5</td>\n",
       "      <td>105</td>\n",
       "      <td>450.000000</td>\n",
       "      <td>450</td>\n",
       "    </tr>\n",
       "    <tr>\n",
       "      <th>7669</th>\n",
       "      <td>Noida</td>\n",
       "      <td>1</td>\n",
       "      <td>0.0</td>\n",
       "      <td>0</td>\n",
       "      <td>1000.000000</td>\n",
       "      <td>1000</td>\n",
       "    </tr>\n",
       "    <tr>\n",
       "      <th>7670</th>\n",
       "      <td>Noida</td>\n",
       "      <td>0</td>\n",
       "      <td>2.0</td>\n",
       "      <td>161</td>\n",
       "      <td>450.000000</td>\n",
       "      <td>450</td>\n",
       "    </tr>\n",
       "  </tbody>\n",
       "</table>\n",
       "<p>7671 rows × 6 columns</p>\n",
       "</div>"
      ],
      "text/plain": [
       "           City  Has Table booking  Aggregate rating  Votes      cuisine  cost\n",
       "0       Gurgaon                  0               3.4     16   416.666667   350\n",
       "1     New Delhi                  0               0.0      0   416.666667   200\n",
       "2     New Delhi                  0               4.1     92   416.666667   700\n",
       "3       Gurgaon                  1               2.7     80   755.511551   800\n",
       "4       Gurgaon                  1               4.3   1887   755.511551  2000\n",
       "...         ...                ...               ...    ...          ...   ...\n",
       "7666      Noida                  1               2.2    116  2500.000000  2500\n",
       "7667      Noida                  0               3.0     10   200.000000   200\n",
       "7668      Noida                  0               3.5    105   450.000000   450\n",
       "7669      Noida                  1               0.0      0  1000.000000  1000\n",
       "7670      Noida                  0               2.0    161   450.000000   450\n",
       "\n",
       "[7671 rows x 6 columns]"
      ]
     },
     "execution_count": 46,
     "metadata": {},
     "output_type": "execute_result"
    }
   ],
   "source": [
    "new_data"
   ]
  },
  {
   "cell_type": "markdown",
   "id": "05e2e738-49b7-4d95-91b3-470efd01be6a",
   "metadata": {},
   "source": [
    "Machine Learning Part"
   ]
  },
  {
   "cell_type": "code",
   "execution_count": 47,
   "id": "6b67ce72-d016-43d0-8da7-d54080682b3e",
   "metadata": {},
   "outputs": [
    {
     "data": {
      "text/plain": [
       "array([['Gurgaon', 0, 3.4, 16, 416.6666666666667],\n",
       "       ['New Delhi', 0, 0.0, 0, 416.6666666666667],\n",
       "       ['New Delhi', 0, 4.1, 92, 416.6666666666667],\n",
       "       ...,\n",
       "       ['Noida', 0, 3.5, 105, 450.0],\n",
       "       ['Noida', 1, 0.0, 0, 1000.0],\n",
       "       ['Noida', 0, 2.0, 161, 450.0]], dtype=object)"
      ]
     },
     "execution_count": 47,
     "metadata": {},
     "output_type": "execute_result"
    }
   ],
   "source": [
    "x=new_data.iloc[:,:-1].values\n",
    "x"
   ]
  },
  {
   "cell_type": "code",
   "execution_count": 48,
   "id": "9eaa55d8-376e-443f-ac43-3017aa7cc5f4",
   "metadata": {},
   "outputs": [
    {
     "data": {
      "text/plain": [
       "array([ 350,  200,  700, ...,  450, 1000,  450], dtype=int64)"
      ]
     },
     "execution_count": 48,
     "metadata": {},
     "output_type": "execute_result"
    }
   ],
   "source": [
    "y=new_data.iloc[:,-1].values\n",
    "y"
   ]
  },
  {
   "cell_type": "code",
   "execution_count": 49,
   "id": "b0e948ee-f8ba-4c6d-9015-2649514584ea",
   "metadata": {},
   "outputs": [],
   "source": [
    "from sklearn.preprocessing import LabelEncoder\n",
    "encoder=LabelEncoder()"
   ]
  },
  {
   "cell_type": "code",
   "execution_count": 50,
   "id": "ce15a004-1b02-4558-bd64-262ed37f8230",
   "metadata": {},
   "outputs": [
    {
     "data": {
      "text/plain": [
       "array([[0, 0, 3.4, 16, 416.6666666666667],\n",
       "       [1, 0, 0.0, 0, 416.6666666666667],\n",
       "       [1, 0, 4.1, 92, 416.6666666666667],\n",
       "       ...,\n",
       "       [2, 0, 3.5, 105, 450.0],\n",
       "       [2, 1, 0.0, 0, 1000.0],\n",
       "       [2, 0, 2.0, 161, 450.0]], dtype=object)"
      ]
     },
     "execution_count": 50,
     "metadata": {},
     "output_type": "execute_result"
    }
   ],
   "source": [
    "x[:,0]=encoder.fit_transform(x[:,0])\n",
    "x"
   ]
  },
  {
   "cell_type": "code",
   "execution_count": 51,
   "id": "8205c18b-361c-4556-ad40-5bfa49e4ba15",
   "metadata": {},
   "outputs": [
    {
     "data": {
      "text/html": [
       "<div>\n",
       "<style scoped>\n",
       "    .dataframe tbody tr th:only-of-type {\n",
       "        vertical-align: middle;\n",
       "    }\n",
       "\n",
       "    .dataframe tbody tr th {\n",
       "        vertical-align: top;\n",
       "    }\n",
       "\n",
       "    .dataframe thead th {\n",
       "        text-align: right;\n",
       "    }\n",
       "</style>\n",
       "<table border=\"1\" class=\"dataframe\">\n",
       "  <thead>\n",
       "    <tr style=\"text-align: right;\">\n",
       "      <th></th>\n",
       "      <th>City_Gurgaon</th>\n",
       "      <th>City_New Delhi</th>\n",
       "      <th>City_Noida</th>\n",
       "      <th>Has Table booking</th>\n",
       "      <th>Aggregate rating</th>\n",
       "      <th>Votes</th>\n",
       "      <th>cost</th>\n",
       "      <th>cuisine</th>\n",
       "    </tr>\n",
       "  </thead>\n",
       "  <tbody>\n",
       "    <tr>\n",
       "      <th>0</th>\n",
       "      <td>1.0</td>\n",
       "      <td>0.0</td>\n",
       "      <td>0.0</td>\n",
       "      <td>0</td>\n",
       "      <td>3.4</td>\n",
       "      <td>16</td>\n",
       "      <td>350</td>\n",
       "      <td>416.666667</td>\n",
       "    </tr>\n",
       "    <tr>\n",
       "      <th>1</th>\n",
       "      <td>0.0</td>\n",
       "      <td>1.0</td>\n",
       "      <td>0.0</td>\n",
       "      <td>0</td>\n",
       "      <td>0.0</td>\n",
       "      <td>0</td>\n",
       "      <td>200</td>\n",
       "      <td>416.666667</td>\n",
       "    </tr>\n",
       "    <tr>\n",
       "      <th>2</th>\n",
       "      <td>0.0</td>\n",
       "      <td>1.0</td>\n",
       "      <td>0.0</td>\n",
       "      <td>0</td>\n",
       "      <td>4.1</td>\n",
       "      <td>92</td>\n",
       "      <td>700</td>\n",
       "      <td>416.666667</td>\n",
       "    </tr>\n",
       "    <tr>\n",
       "      <th>3</th>\n",
       "      <td>1.0</td>\n",
       "      <td>0.0</td>\n",
       "      <td>0.0</td>\n",
       "      <td>1</td>\n",
       "      <td>2.7</td>\n",
       "      <td>80</td>\n",
       "      <td>800</td>\n",
       "      <td>755.511551</td>\n",
       "    </tr>\n",
       "    <tr>\n",
       "      <th>4</th>\n",
       "      <td>1.0</td>\n",
       "      <td>0.0</td>\n",
       "      <td>0.0</td>\n",
       "      <td>1</td>\n",
       "      <td>4.3</td>\n",
       "      <td>1887</td>\n",
       "      <td>2000</td>\n",
       "      <td>755.511551</td>\n",
       "    </tr>\n",
       "    <tr>\n",
       "      <th>...</th>\n",
       "      <td>...</td>\n",
       "      <td>...</td>\n",
       "      <td>...</td>\n",
       "      <td>...</td>\n",
       "      <td>...</td>\n",
       "      <td>...</td>\n",
       "      <td>...</td>\n",
       "      <td>...</td>\n",
       "    </tr>\n",
       "    <tr>\n",
       "      <th>7666</th>\n",
       "      <td>0.0</td>\n",
       "      <td>0.0</td>\n",
       "      <td>1.0</td>\n",
       "      <td>1</td>\n",
       "      <td>2.2</td>\n",
       "      <td>116</td>\n",
       "      <td>2500</td>\n",
       "      <td>2500.000000</td>\n",
       "    </tr>\n",
       "    <tr>\n",
       "      <th>7667</th>\n",
       "      <td>0.0</td>\n",
       "      <td>0.0</td>\n",
       "      <td>1.0</td>\n",
       "      <td>0</td>\n",
       "      <td>3.0</td>\n",
       "      <td>10</td>\n",
       "      <td>200</td>\n",
       "      <td>200.000000</td>\n",
       "    </tr>\n",
       "    <tr>\n",
       "      <th>7668</th>\n",
       "      <td>0.0</td>\n",
       "      <td>0.0</td>\n",
       "      <td>1.0</td>\n",
       "      <td>0</td>\n",
       "      <td>3.5</td>\n",
       "      <td>105</td>\n",
       "      <td>450</td>\n",
       "      <td>450.000000</td>\n",
       "    </tr>\n",
       "    <tr>\n",
       "      <th>7669</th>\n",
       "      <td>0.0</td>\n",
       "      <td>0.0</td>\n",
       "      <td>1.0</td>\n",
       "      <td>1</td>\n",
       "      <td>0.0</td>\n",
       "      <td>0</td>\n",
       "      <td>1000</td>\n",
       "      <td>1000.000000</td>\n",
       "    </tr>\n",
       "    <tr>\n",
       "      <th>7670</th>\n",
       "      <td>0.0</td>\n",
       "      <td>0.0</td>\n",
       "      <td>1.0</td>\n",
       "      <td>0</td>\n",
       "      <td>2.0</td>\n",
       "      <td>161</td>\n",
       "      <td>450</td>\n",
       "      <td>450.000000</td>\n",
       "    </tr>\n",
       "  </tbody>\n",
       "</table>\n",
       "<p>7671 rows × 8 columns</p>\n",
       "</div>"
      ],
      "text/plain": [
       "      City_Gurgaon  City_New Delhi  City_Noida  Has Table booking  \\\n",
       "0              1.0             0.0         0.0                  0   \n",
       "1              0.0             1.0         0.0                  0   \n",
       "2              0.0             1.0         0.0                  0   \n",
       "3              1.0             0.0         0.0                  1   \n",
       "4              1.0             0.0         0.0                  1   \n",
       "...            ...             ...         ...                ...   \n",
       "7666           0.0             0.0         1.0                  1   \n",
       "7667           0.0             0.0         1.0                  0   \n",
       "7668           0.0             0.0         1.0                  0   \n",
       "7669           0.0             0.0         1.0                  1   \n",
       "7670           0.0             0.0         1.0                  0   \n",
       "\n",
       "      Aggregate rating  Votes  cost      cuisine  \n",
       "0                  3.4     16   350   416.666667  \n",
       "1                  0.0      0   200   416.666667  \n",
       "2                  4.1     92   700   416.666667  \n",
       "3                  2.7     80   800   755.511551  \n",
       "4                  4.3   1887  2000   755.511551  \n",
       "...                ...    ...   ...          ...  \n",
       "7666               2.2    116  2500  2500.000000  \n",
       "7667               3.0     10   200   200.000000  \n",
       "7668               3.5    105   450   450.000000  \n",
       "7669               0.0      0  1000  1000.000000  \n",
       "7670               2.0    161   450   450.000000  \n",
       "\n",
       "[7671 rows x 8 columns]"
      ]
     },
     "execution_count": 51,
     "metadata": {},
     "output_type": "execute_result"
    }
   ],
   "source": [
    "from sklearn.preprocessing import OneHotEncoder\n",
    "categorical_columns = ['City']\n",
    "numeric_columns = [\"Has Table booking\", \"Aggregate rating\", \"Votes\", \"cost\", \"cuisine\"]\n",
    "\n",
    "# Initialize the OneHotEncoder for the `City` column\n",
    "oencoder = OneHotEncoder()  # drop='first'avoids dummy variable trap by removing the first column\n",
    " \n",
    "# Fit and transform only the `City` column\n",
    "x_cat = oencoder.fit_transform(new_data[categorical_columns]).toarray()\n",
    "\n",
    "# Create a DataFrame for the encoded `City` data with appropriate column names\n",
    "city_encoded_df = pd.DataFrame(x_cat, columns=oencoder.get_feature_names_out(categorical_columns))\n",
    "city_encoded_df\n",
    "# Combine the encoded `City` columns with the numeric columns\n",
    "x = pd.concat([city_encoded_df, new_data[numeric_columns].reset_index(drop=True)], axis=1)\n",
    "\n",
    "x"
   ]
  },
  {
   "cell_type": "code",
   "execution_count": 52,
   "id": "197394d3-b6dd-4b5f-b07a-954b68473509",
   "metadata": {},
   "outputs": [
    {
     "data": {
      "text/html": [
       "<div>\n",
       "<style scoped>\n",
       "    .dataframe tbody tr th:only-of-type {\n",
       "        vertical-align: middle;\n",
       "    }\n",
       "\n",
       "    .dataframe tbody tr th {\n",
       "        vertical-align: top;\n",
       "    }\n",
       "\n",
       "    .dataframe thead th {\n",
       "        text-align: right;\n",
       "    }\n",
       "</style>\n",
       "<table border=\"1\" class=\"dataframe\">\n",
       "  <thead>\n",
       "    <tr style=\"text-align: right;\">\n",
       "      <th></th>\n",
       "      <th>City_Gurgaon</th>\n",
       "      <th>City_New Delhi</th>\n",
       "      <th>City_Noida</th>\n",
       "      <th>Has Table booking</th>\n",
       "      <th>Aggregate rating</th>\n",
       "      <th>Votes</th>\n",
       "      <th>cuisine</th>\n",
       "    </tr>\n",
       "  </thead>\n",
       "  <tbody>\n",
       "    <tr>\n",
       "      <th>0</th>\n",
       "      <td>1.0</td>\n",
       "      <td>0.0</td>\n",
       "      <td>0.0</td>\n",
       "      <td>0</td>\n",
       "      <td>3.4</td>\n",
       "      <td>16</td>\n",
       "      <td>416.666667</td>\n",
       "    </tr>\n",
       "    <tr>\n",
       "      <th>1</th>\n",
       "      <td>0.0</td>\n",
       "      <td>1.0</td>\n",
       "      <td>0.0</td>\n",
       "      <td>0</td>\n",
       "      <td>0.0</td>\n",
       "      <td>0</td>\n",
       "      <td>416.666667</td>\n",
       "    </tr>\n",
       "    <tr>\n",
       "      <th>2</th>\n",
       "      <td>0.0</td>\n",
       "      <td>1.0</td>\n",
       "      <td>0.0</td>\n",
       "      <td>0</td>\n",
       "      <td>4.1</td>\n",
       "      <td>92</td>\n",
       "      <td>416.666667</td>\n",
       "    </tr>\n",
       "    <tr>\n",
       "      <th>3</th>\n",
       "      <td>1.0</td>\n",
       "      <td>0.0</td>\n",
       "      <td>0.0</td>\n",
       "      <td>1</td>\n",
       "      <td>2.7</td>\n",
       "      <td>80</td>\n",
       "      <td>755.511551</td>\n",
       "    </tr>\n",
       "    <tr>\n",
       "      <th>4</th>\n",
       "      <td>1.0</td>\n",
       "      <td>0.0</td>\n",
       "      <td>0.0</td>\n",
       "      <td>1</td>\n",
       "      <td>4.3</td>\n",
       "      <td>1887</td>\n",
       "      <td>755.511551</td>\n",
       "    </tr>\n",
       "    <tr>\n",
       "      <th>...</th>\n",
       "      <td>...</td>\n",
       "      <td>...</td>\n",
       "      <td>...</td>\n",
       "      <td>...</td>\n",
       "      <td>...</td>\n",
       "      <td>...</td>\n",
       "      <td>...</td>\n",
       "    </tr>\n",
       "    <tr>\n",
       "      <th>7666</th>\n",
       "      <td>0.0</td>\n",
       "      <td>0.0</td>\n",
       "      <td>1.0</td>\n",
       "      <td>1</td>\n",
       "      <td>2.2</td>\n",
       "      <td>116</td>\n",
       "      <td>2500.000000</td>\n",
       "    </tr>\n",
       "    <tr>\n",
       "      <th>7667</th>\n",
       "      <td>0.0</td>\n",
       "      <td>0.0</td>\n",
       "      <td>1.0</td>\n",
       "      <td>0</td>\n",
       "      <td>3.0</td>\n",
       "      <td>10</td>\n",
       "      <td>200.000000</td>\n",
       "    </tr>\n",
       "    <tr>\n",
       "      <th>7668</th>\n",
       "      <td>0.0</td>\n",
       "      <td>0.0</td>\n",
       "      <td>1.0</td>\n",
       "      <td>0</td>\n",
       "      <td>3.5</td>\n",
       "      <td>105</td>\n",
       "      <td>450.000000</td>\n",
       "    </tr>\n",
       "    <tr>\n",
       "      <th>7669</th>\n",
       "      <td>0.0</td>\n",
       "      <td>0.0</td>\n",
       "      <td>1.0</td>\n",
       "      <td>1</td>\n",
       "      <td>0.0</td>\n",
       "      <td>0</td>\n",
       "      <td>1000.000000</td>\n",
       "    </tr>\n",
       "    <tr>\n",
       "      <th>7670</th>\n",
       "      <td>0.0</td>\n",
       "      <td>0.0</td>\n",
       "      <td>1.0</td>\n",
       "      <td>0</td>\n",
       "      <td>2.0</td>\n",
       "      <td>161</td>\n",
       "      <td>450.000000</td>\n",
       "    </tr>\n",
       "  </tbody>\n",
       "</table>\n",
       "<p>7671 rows × 7 columns</p>\n",
       "</div>"
      ],
      "text/plain": [
       "      City_Gurgaon  City_New Delhi  City_Noida  Has Table booking  \\\n",
       "0              1.0             0.0         0.0                  0   \n",
       "1              0.0             1.0         0.0                  0   \n",
       "2              0.0             1.0         0.0                  0   \n",
       "3              1.0             0.0         0.0                  1   \n",
       "4              1.0             0.0         0.0                  1   \n",
       "...            ...             ...         ...                ...   \n",
       "7666           0.0             0.0         1.0                  1   \n",
       "7667           0.0             0.0         1.0                  0   \n",
       "7668           0.0             0.0         1.0                  0   \n",
       "7669           0.0             0.0         1.0                  1   \n",
       "7670           0.0             0.0         1.0                  0   \n",
       "\n",
       "      Aggregate rating  Votes      cuisine  \n",
       "0                  3.4     16   416.666667  \n",
       "1                  0.0      0   416.666667  \n",
       "2                  4.1     92   416.666667  \n",
       "3                  2.7     80   755.511551  \n",
       "4                  4.3   1887   755.511551  \n",
       "...                ...    ...          ...  \n",
       "7666               2.2    116  2500.000000  \n",
       "7667               3.0     10   200.000000  \n",
       "7668               3.5    105   450.000000  \n",
       "7669               0.0      0  1000.000000  \n",
       "7670               2.0    161   450.000000  \n",
       "\n",
       "[7671 rows x 7 columns]"
      ]
     },
     "execution_count": 52,
     "metadata": {},
     "output_type": "execute_result"
    }
   ],
   "source": [
    "x.drop(columns = ['cost'], inplace=True)\n",
    "x"
   ]
  },
  {
   "cell_type": "code",
   "execution_count": 53,
   "id": "98c04eb3-0883-48d7-96a4-a75705325f58",
   "metadata": {},
   "outputs": [],
   "source": [
    "# x=x.iloc[:, 1 :]\n",
    "# x.shape"
   ]
  },
  {
   "cell_type": "code",
   "execution_count": 54,
   "id": "a1bd3a47-fa55-404f-a851-4b2e38e52e61",
   "metadata": {},
   "outputs": [],
   "source": [
    "from sklearn.model_selection import train_test_split\n",
    "x_train,x_test,y_train,y_test=train_test_split(x,y,test_size=0.3, random_state=9)"
   ]
  },
  {
   "cell_type": "code",
   "execution_count": 55,
   "id": "9679e9ca-a356-4c6e-b99c-a8c66ae28db1",
   "metadata": {},
   "outputs": [
    {
     "data": {
      "text/plain": [
       "(5369, 7)"
      ]
     },
     "execution_count": 55,
     "metadata": {},
     "output_type": "execute_result"
    }
   ],
   "source": [
    "x_train.shape"
   ]
  },
  {
   "cell_type": "code",
   "execution_count": 56,
   "id": "ad88339e-c847-4d7c-b456-807561ac6bf5",
   "metadata": {},
   "outputs": [],
   "source": [
    "from sklearn.linear_model import LinearRegression\n",
    "regressor=LinearRegression()"
   ]
  },
  {
   "cell_type": "code",
   "execution_count": 57,
   "id": "2b79607c-44d2-47b1-94e7-0dc12b1f8983",
   "metadata": {},
   "outputs": [
    {
     "data": {
      "text/html": [
       "<style>#sk-container-id-1 {color: black;background-color: white;}#sk-container-id-1 pre{padding: 0;}#sk-container-id-1 div.sk-toggleable {background-color: white;}#sk-container-id-1 label.sk-toggleable__label {cursor: pointer;display: block;width: 100%;margin-bottom: 0;padding: 0.3em;box-sizing: border-box;text-align: center;}#sk-container-id-1 label.sk-toggleable__label-arrow:before {content: \"▸\";float: left;margin-right: 0.25em;color: #696969;}#sk-container-id-1 label.sk-toggleable__label-arrow:hover:before {color: black;}#sk-container-id-1 div.sk-estimator:hover label.sk-toggleable__label-arrow:before {color: black;}#sk-container-id-1 div.sk-toggleable__content {max-height: 0;max-width: 0;overflow: hidden;text-align: left;background-color: #f0f8ff;}#sk-container-id-1 div.sk-toggleable__content pre {margin: 0.2em;color: black;border-radius: 0.25em;background-color: #f0f8ff;}#sk-container-id-1 input.sk-toggleable__control:checked~div.sk-toggleable__content {max-height: 200px;max-width: 100%;overflow: auto;}#sk-container-id-1 input.sk-toggleable__control:checked~label.sk-toggleable__label-arrow:before {content: \"▾\";}#sk-container-id-1 div.sk-estimator input.sk-toggleable__control:checked~label.sk-toggleable__label {background-color: #d4ebff;}#sk-container-id-1 div.sk-label input.sk-toggleable__control:checked~label.sk-toggleable__label {background-color: #d4ebff;}#sk-container-id-1 input.sk-hidden--visually {border: 0;clip: rect(1px 1px 1px 1px);clip: rect(1px, 1px, 1px, 1px);height: 1px;margin: -1px;overflow: hidden;padding: 0;position: absolute;width: 1px;}#sk-container-id-1 div.sk-estimator {font-family: monospace;background-color: #f0f8ff;border: 1px dotted black;border-radius: 0.25em;box-sizing: border-box;margin-bottom: 0.5em;}#sk-container-id-1 div.sk-estimator:hover {background-color: #d4ebff;}#sk-container-id-1 div.sk-parallel-item::after {content: \"\";width: 100%;border-bottom: 1px solid gray;flex-grow: 1;}#sk-container-id-1 div.sk-label:hover label.sk-toggleable__label {background-color: #d4ebff;}#sk-container-id-1 div.sk-serial::before {content: \"\";position: absolute;border-left: 1px solid gray;box-sizing: border-box;top: 0;bottom: 0;left: 50%;z-index: 0;}#sk-container-id-1 div.sk-serial {display: flex;flex-direction: column;align-items: center;background-color: white;padding-right: 0.2em;padding-left: 0.2em;position: relative;}#sk-container-id-1 div.sk-item {position: relative;z-index: 1;}#sk-container-id-1 div.sk-parallel {display: flex;align-items: stretch;justify-content: center;background-color: white;position: relative;}#sk-container-id-1 div.sk-item::before, #sk-container-id-1 div.sk-parallel-item::before {content: \"\";position: absolute;border-left: 1px solid gray;box-sizing: border-box;top: 0;bottom: 0;left: 50%;z-index: -1;}#sk-container-id-1 div.sk-parallel-item {display: flex;flex-direction: column;z-index: 1;position: relative;background-color: white;}#sk-container-id-1 div.sk-parallel-item:first-child::after {align-self: flex-end;width: 50%;}#sk-container-id-1 div.sk-parallel-item:last-child::after {align-self: flex-start;width: 50%;}#sk-container-id-1 div.sk-parallel-item:only-child::after {width: 0;}#sk-container-id-1 div.sk-dashed-wrapped {border: 1px dashed gray;margin: 0 0.4em 0.5em 0.4em;box-sizing: border-box;padding-bottom: 0.4em;background-color: white;}#sk-container-id-1 div.sk-label label {font-family: monospace;font-weight: bold;display: inline-block;line-height: 1.2em;}#sk-container-id-1 div.sk-label-container {text-align: center;}#sk-container-id-1 div.sk-container {/* jupyter's `normalize.less` sets `[hidden] { display: none; }` but bootstrap.min.css set `[hidden] { display: none !important; }` so we also need the `!important` here to be able to override the default hidden behavior on the sphinx rendered scikit-learn.org. See: https://github.com/scikit-learn/scikit-learn/issues/21755 */display: inline-block !important;position: relative;}#sk-container-id-1 div.sk-text-repr-fallback {display: none;}</style><div id=\"sk-container-id-1\" class=\"sk-top-container\"><div class=\"sk-text-repr-fallback\"><pre>LinearRegression()</pre><b>In a Jupyter environment, please rerun this cell to show the HTML representation or trust the notebook. <br />On GitHub, the HTML representation is unable to render, please try loading this page with nbviewer.org.</b></div><div class=\"sk-container\" hidden><div class=\"sk-item\"><div class=\"sk-estimator sk-toggleable\"><input class=\"sk-toggleable__control sk-hidden--visually\" id=\"sk-estimator-id-1\" type=\"checkbox\" checked><label for=\"sk-estimator-id-1\" class=\"sk-toggleable__label sk-toggleable__label-arrow\">LinearRegression</label><div class=\"sk-toggleable__content\"><pre>LinearRegression()</pre></div></div></div></div></div>"
      ],
      "text/plain": [
       "LinearRegression()"
      ]
     },
     "execution_count": 57,
     "metadata": {},
     "output_type": "execute_result"
    }
   ],
   "source": [
    "regressor.fit(x_train,y_train)"
   ]
  },
  {
   "cell_type": "code",
   "execution_count": 58,
   "id": "db25f5e3-0e30-4643-acf4-7324743fda7c",
   "metadata": {},
   "outputs": [],
   "source": [
    "y_pred=regressor.predict(x_test)"
   ]
  },
  {
   "cell_type": "code",
   "execution_count": 59,
   "id": "d90018d6-8741-4ad3-b0d6-cc9672a384b1",
   "metadata": {},
   "outputs": [
    {
     "data": {
      "text/plain": [
       "0.7124640693210209"
      ]
     },
     "execution_count": 59,
     "metadata": {},
     "output_type": "execute_result"
    }
   ],
   "source": [
    "from sklearn.metrics import r2_score\n",
    "r2= r2_score(y_test,y_pred)\n",
    "r2\n"
   ]
  },
  {
   "cell_type": "code",
   "execution_count": 60,
   "id": "eac0495b-309c-4c85-aced-db4b315a62f6",
   "metadata": {},
   "outputs": [],
   "source": [
    "from sklearn.ensemble import RandomForestRegressor\n",
    "regressor1=RandomForestRegressor(n_estimators=100)"
   ]
  },
  {
   "cell_type": "code",
   "execution_count": 61,
   "id": "d460aa81-49fc-4f7d-b2a1-f6caf7f5fe3d",
   "metadata": {},
   "outputs": [
    {
     "data": {
      "text/html": [
       "<style>#sk-container-id-2 {color: black;background-color: white;}#sk-container-id-2 pre{padding: 0;}#sk-container-id-2 div.sk-toggleable {background-color: white;}#sk-container-id-2 label.sk-toggleable__label {cursor: pointer;display: block;width: 100%;margin-bottom: 0;padding: 0.3em;box-sizing: border-box;text-align: center;}#sk-container-id-2 label.sk-toggleable__label-arrow:before {content: \"▸\";float: left;margin-right: 0.25em;color: #696969;}#sk-container-id-2 label.sk-toggleable__label-arrow:hover:before {color: black;}#sk-container-id-2 div.sk-estimator:hover label.sk-toggleable__label-arrow:before {color: black;}#sk-container-id-2 div.sk-toggleable__content {max-height: 0;max-width: 0;overflow: hidden;text-align: left;background-color: #f0f8ff;}#sk-container-id-2 div.sk-toggleable__content pre {margin: 0.2em;color: black;border-radius: 0.25em;background-color: #f0f8ff;}#sk-container-id-2 input.sk-toggleable__control:checked~div.sk-toggleable__content {max-height: 200px;max-width: 100%;overflow: auto;}#sk-container-id-2 input.sk-toggleable__control:checked~label.sk-toggleable__label-arrow:before {content: \"▾\";}#sk-container-id-2 div.sk-estimator input.sk-toggleable__control:checked~label.sk-toggleable__label {background-color: #d4ebff;}#sk-container-id-2 div.sk-label input.sk-toggleable__control:checked~label.sk-toggleable__label {background-color: #d4ebff;}#sk-container-id-2 input.sk-hidden--visually {border: 0;clip: rect(1px 1px 1px 1px);clip: rect(1px, 1px, 1px, 1px);height: 1px;margin: -1px;overflow: hidden;padding: 0;position: absolute;width: 1px;}#sk-container-id-2 div.sk-estimator {font-family: monospace;background-color: #f0f8ff;border: 1px dotted black;border-radius: 0.25em;box-sizing: border-box;margin-bottom: 0.5em;}#sk-container-id-2 div.sk-estimator:hover {background-color: #d4ebff;}#sk-container-id-2 div.sk-parallel-item::after {content: \"\";width: 100%;border-bottom: 1px solid gray;flex-grow: 1;}#sk-container-id-2 div.sk-label:hover label.sk-toggleable__label {background-color: #d4ebff;}#sk-container-id-2 div.sk-serial::before {content: \"\";position: absolute;border-left: 1px solid gray;box-sizing: border-box;top: 0;bottom: 0;left: 50%;z-index: 0;}#sk-container-id-2 div.sk-serial {display: flex;flex-direction: column;align-items: center;background-color: white;padding-right: 0.2em;padding-left: 0.2em;position: relative;}#sk-container-id-2 div.sk-item {position: relative;z-index: 1;}#sk-container-id-2 div.sk-parallel {display: flex;align-items: stretch;justify-content: center;background-color: white;position: relative;}#sk-container-id-2 div.sk-item::before, #sk-container-id-2 div.sk-parallel-item::before {content: \"\";position: absolute;border-left: 1px solid gray;box-sizing: border-box;top: 0;bottom: 0;left: 50%;z-index: -1;}#sk-container-id-2 div.sk-parallel-item {display: flex;flex-direction: column;z-index: 1;position: relative;background-color: white;}#sk-container-id-2 div.sk-parallel-item:first-child::after {align-self: flex-end;width: 50%;}#sk-container-id-2 div.sk-parallel-item:last-child::after {align-self: flex-start;width: 50%;}#sk-container-id-2 div.sk-parallel-item:only-child::after {width: 0;}#sk-container-id-2 div.sk-dashed-wrapped {border: 1px dashed gray;margin: 0 0.4em 0.5em 0.4em;box-sizing: border-box;padding-bottom: 0.4em;background-color: white;}#sk-container-id-2 div.sk-label label {font-family: monospace;font-weight: bold;display: inline-block;line-height: 1.2em;}#sk-container-id-2 div.sk-label-container {text-align: center;}#sk-container-id-2 div.sk-container {/* jupyter's `normalize.less` sets `[hidden] { display: none; }` but bootstrap.min.css set `[hidden] { display: none !important; }` so we also need the `!important` here to be able to override the default hidden behavior on the sphinx rendered scikit-learn.org. See: https://github.com/scikit-learn/scikit-learn/issues/21755 */display: inline-block !important;position: relative;}#sk-container-id-2 div.sk-text-repr-fallback {display: none;}</style><div id=\"sk-container-id-2\" class=\"sk-top-container\"><div class=\"sk-text-repr-fallback\"><pre>RandomForestRegressor()</pre><b>In a Jupyter environment, please rerun this cell to show the HTML representation or trust the notebook. <br />On GitHub, the HTML representation is unable to render, please try loading this page with nbviewer.org.</b></div><div class=\"sk-container\" hidden><div class=\"sk-item\"><div class=\"sk-estimator sk-toggleable\"><input class=\"sk-toggleable__control sk-hidden--visually\" id=\"sk-estimator-id-2\" type=\"checkbox\" checked><label for=\"sk-estimator-id-2\" class=\"sk-toggleable__label sk-toggleable__label-arrow\">RandomForestRegressor</label><div class=\"sk-toggleable__content\"><pre>RandomForestRegressor()</pre></div></div></div></div></div>"
      ],
      "text/plain": [
       "RandomForestRegressor()"
      ]
     },
     "execution_count": 61,
     "metadata": {},
     "output_type": "execute_result"
    }
   ],
   "source": [
    "regressor1.fit(x_train,y_train)"
   ]
  },
  {
   "cell_type": "code",
   "execution_count": 62,
   "id": "10eb87f3-a461-4814-a412-2a38f52434ec",
   "metadata": {},
   "outputs": [],
   "source": [
    "y_pred1=regressor1.predict(x_test)"
   ]
  },
  {
   "cell_type": "code",
   "execution_count": 63,
   "id": "cd9e6bec-2516-4977-afb5-119d1089b98b",
   "metadata": {},
   "outputs": [
    {
     "data": {
      "text/plain": [
       "0.6829065978625832"
      ]
     },
     "execution_count": 63,
     "metadata": {},
     "output_type": "execute_result"
    }
   ],
   "source": [
    "r2_score(y_test,y_pred1)"
   ]
  },
  {
   "cell_type": "code",
   "execution_count": 64,
   "id": "9f5d0a80-e056-4f56-9174-305732a5fa73",
   "metadata": {},
   "outputs": [
    {
     "data": {
      "text/html": [
       "<style>#sk-container-id-3 {color: black;background-color: white;}#sk-container-id-3 pre{padding: 0;}#sk-container-id-3 div.sk-toggleable {background-color: white;}#sk-container-id-3 label.sk-toggleable__label {cursor: pointer;display: block;width: 100%;margin-bottom: 0;padding: 0.3em;box-sizing: border-box;text-align: center;}#sk-container-id-3 label.sk-toggleable__label-arrow:before {content: \"▸\";float: left;margin-right: 0.25em;color: #696969;}#sk-container-id-3 label.sk-toggleable__label-arrow:hover:before {color: black;}#sk-container-id-3 div.sk-estimator:hover label.sk-toggleable__label-arrow:before {color: black;}#sk-container-id-3 div.sk-toggleable__content {max-height: 0;max-width: 0;overflow: hidden;text-align: left;background-color: #f0f8ff;}#sk-container-id-3 div.sk-toggleable__content pre {margin: 0.2em;color: black;border-radius: 0.25em;background-color: #f0f8ff;}#sk-container-id-3 input.sk-toggleable__control:checked~div.sk-toggleable__content {max-height: 200px;max-width: 100%;overflow: auto;}#sk-container-id-3 input.sk-toggleable__control:checked~label.sk-toggleable__label-arrow:before {content: \"▾\";}#sk-container-id-3 div.sk-estimator input.sk-toggleable__control:checked~label.sk-toggleable__label {background-color: #d4ebff;}#sk-container-id-3 div.sk-label input.sk-toggleable__control:checked~label.sk-toggleable__label {background-color: #d4ebff;}#sk-container-id-3 input.sk-hidden--visually {border: 0;clip: rect(1px 1px 1px 1px);clip: rect(1px, 1px, 1px, 1px);height: 1px;margin: -1px;overflow: hidden;padding: 0;position: absolute;width: 1px;}#sk-container-id-3 div.sk-estimator {font-family: monospace;background-color: #f0f8ff;border: 1px dotted black;border-radius: 0.25em;box-sizing: border-box;margin-bottom: 0.5em;}#sk-container-id-3 div.sk-estimator:hover {background-color: #d4ebff;}#sk-container-id-3 div.sk-parallel-item::after {content: \"\";width: 100%;border-bottom: 1px solid gray;flex-grow: 1;}#sk-container-id-3 div.sk-label:hover label.sk-toggleable__label {background-color: #d4ebff;}#sk-container-id-3 div.sk-serial::before {content: \"\";position: absolute;border-left: 1px solid gray;box-sizing: border-box;top: 0;bottom: 0;left: 50%;z-index: 0;}#sk-container-id-3 div.sk-serial {display: flex;flex-direction: column;align-items: center;background-color: white;padding-right: 0.2em;padding-left: 0.2em;position: relative;}#sk-container-id-3 div.sk-item {position: relative;z-index: 1;}#sk-container-id-3 div.sk-parallel {display: flex;align-items: stretch;justify-content: center;background-color: white;position: relative;}#sk-container-id-3 div.sk-item::before, #sk-container-id-3 div.sk-parallel-item::before {content: \"\";position: absolute;border-left: 1px solid gray;box-sizing: border-box;top: 0;bottom: 0;left: 50%;z-index: -1;}#sk-container-id-3 div.sk-parallel-item {display: flex;flex-direction: column;z-index: 1;position: relative;background-color: white;}#sk-container-id-3 div.sk-parallel-item:first-child::after {align-self: flex-end;width: 50%;}#sk-container-id-3 div.sk-parallel-item:last-child::after {align-self: flex-start;width: 50%;}#sk-container-id-3 div.sk-parallel-item:only-child::after {width: 0;}#sk-container-id-3 div.sk-dashed-wrapped {border: 1px dashed gray;margin: 0 0.4em 0.5em 0.4em;box-sizing: border-box;padding-bottom: 0.4em;background-color: white;}#sk-container-id-3 div.sk-label label {font-family: monospace;font-weight: bold;display: inline-block;line-height: 1.2em;}#sk-container-id-3 div.sk-label-container {text-align: center;}#sk-container-id-3 div.sk-container {/* jupyter's `normalize.less` sets `[hidden] { display: none; }` but bootstrap.min.css set `[hidden] { display: none !important; }` so we also need the `!important` here to be able to override the default hidden behavior on the sphinx rendered scikit-learn.org. See: https://github.com/scikit-learn/scikit-learn/issues/21755 */display: inline-block !important;position: relative;}#sk-container-id-3 div.sk-text-repr-fallback {display: none;}</style><div id=\"sk-container-id-3\" class=\"sk-top-container\"><div class=\"sk-text-repr-fallback\"><pre>DecisionTreeRegressor()</pre><b>In a Jupyter environment, please rerun this cell to show the HTML representation or trust the notebook. <br />On GitHub, the HTML representation is unable to render, please try loading this page with nbviewer.org.</b></div><div class=\"sk-container\" hidden><div class=\"sk-item\"><div class=\"sk-estimator sk-toggleable\"><input class=\"sk-toggleable__control sk-hidden--visually\" id=\"sk-estimator-id-3\" type=\"checkbox\" checked><label for=\"sk-estimator-id-3\" class=\"sk-toggleable__label sk-toggleable__label-arrow\">DecisionTreeRegressor</label><div class=\"sk-toggleable__content\"><pre>DecisionTreeRegressor()</pre></div></div></div></div></div>"
      ],
      "text/plain": [
       "DecisionTreeRegressor()"
      ]
     },
     "execution_count": 64,
     "metadata": {},
     "output_type": "execute_result"
    }
   ],
   "source": [
    "from sklearn.tree import DecisionTreeRegressor\n",
    "regressor2= DecisionTreeRegressor()\n",
    "regressor2.fit(x_train,y_train)"
   ]
  },
  {
   "cell_type": "code",
   "execution_count": 65,
   "id": "18a652c3-b58b-4c3a-a439-05122cc6a2f8",
   "metadata": {},
   "outputs": [
    {
     "data": {
      "text/plain": [
       "0.4212427676876097"
      ]
     },
     "execution_count": 65,
     "metadata": {},
     "output_type": "execute_result"
    }
   ],
   "source": [
    "y_pred2=regressor2.predict(x_test)\n",
    "r2_score(y_test,y_pred2)"
   ]
  },
  {
   "cell_type": "code",
   "execution_count": 66,
   "id": "912d1a93-bad3-44de-abbd-4fcce9b39b81",
   "metadata": {},
   "outputs": [
    {
     "data": {
      "image/png": "[encoded data removed]",
      "text/plain": [
       "<Figure size 640x480 with 1 Axes>"
      ]
     },
     "metadata": {},
     "output_type": "display_data"
    }
   ],
   "source": [
    "import matplotlib.pyplot as plt\n",
    "\n",
    "# Assuming `y_test` and `y_pred` are the true and predicted values for your test set\n",
    "plt.scatter(y_test, y_pred, color='blue', alpha=0.5)\n",
    "plt.plot([y_test.min(), y_test.max()], [y_test.min(), y_test.max()], 'k--', lw=2)\n",
    "plt.xlabel('Actual Values')\n",
    "plt.ylabel('Predicted Values')\n",
    "plt.title('Actual vs Predicted Values')\n",
    "plt.show()\n"
   ]
  },
  {
   "cell_type": "code",
   "execution_count": 67,
   "id": "d627275c-7ae2-4381-9a79-44d3e7a304ce",
   "metadata": {},
   "outputs": [
    {
     "data": {
      "image/png": "[encoded data removed]",
      "text/plain": [
       "<Figure size 640x480 with 1 Axes>"
      ]
     },
     "metadata": {},
     "output_type": "display_data"
    }
   ],
   "source": [
    "residuals = y_test - y_pred\n",
    "plt.scatter(y_pred, residuals, color='purple', alpha=0.5)\n",
    "plt.hlines(y=0, xmin=y_pred.min(), xmax=y_pred.max(), linestyles='dashed', colors='red')\n",
    "plt.xlabel('Predicted Values')\n",
    "plt.ylabel('Residuals')\n",
    "plt.title('Residual Plot')\n",
    "plt.show()\n"
   ]
  },
  {
   "cell_type": "code",
   "execution_count": 70,
   "id": "0d05cbb7-6bf2-4ed9-b300-7b51528d435b",
   "metadata": {},
   "outputs": [
    {
     "data": {
      "image/png": "[encoded data removed]",
      "text/plain": [
       "<Figure size 640x480 with 1 Axes>"
      ]
     },
     "metadata": {},
     "output_type": "display_data"
    }
   ],
   "source": [
    "from sklearn.model_selection import learning_curve\n",
    "from sklearn.linear_model import LinearRegression\n",
    "regressor=LinearRegression()\n",
    "import numpy as np\n",
    "\n",
    "train_sizes, train_scores, test_scores = learning_curve(regressor, x, y, cv=5)\n",
    "train_scores_mean = np.mean(train_scores, axis=1)\n",
    "test_scores_mean = np.mean(test_scores, axis=1)\n",
    "\n",
    "plt.plot(train_sizes, train_scores_mean, label='Training Score', color='blue')\n",
    "plt.plot(train_sizes, test_scores_mean, label='Validation Score', color='orange')\n",
    "plt.xlabel('Training Size')\n",
    "plt.ylabel('Score')\n",
    "plt.title('Learning Curve')\n",
    "plt.legend()\n",
    "plt.show()\n"
   ]
  },
  {
   "cell_type": "code",
   "execution_count": 72,
   "id": "e9b8d640-8f1f-4d84-b954-2bb5b83fb978",
   "metadata": {},
   "outputs": [
    {
     "data": {
      "image/png": "[encoded data removed]",
      "text/plain": [
       "<Figure size 640x480 with 1 Axes>"
      ]
     },
     "metadata": {},
     "output_type": "display_data"
    }
   ],
   "source": [
    "from sklearn.model_selection import learning_curve\n",
    "from sklearn.ensemble import RandomForestRegressor\n",
    "regressor1=RandomForestRegressor(n_estimators=100)\n",
    "import numpy as np\n",
    "\n",
    "train_sizes, train_scores, test_scores = learning_curve(regressor1, x, y, cv=5)\n",
    "train_scores_mean = np.mean(train_scores, axis=1)\n",
    "test_scores_mean = np.mean(test_scores, axis=1)\n",
    "\n",
    "plt.plot(train_sizes, train_scores_mean, label='Training Score', color='blue')\n",
    "plt.plot(train_sizes, test_scores_mean, label='Validation Score', color='orange')\n",
    "plt.xlabel('Training Size')\n",
    "plt.ylabel('Score')\n",
    "plt.title('Learning Curve')\n",
    "plt.legend()\n",
    "plt.show()\n"
   ]
  },
  {
   "cell_type": "code",
   "execution_count": 73,
   "id": "66e22ad0-9848-4e11-b198-f6be74292ed6",
   "metadata": {},
   "outputs": [
    {
     "data": {
      "image/png": "[encoded data removed]",
      "text/plain": [
       "<Figure size 640x480 with 1 Axes>"
      ]
     },
     "metadata": {},
     "output_type": "display_data"
    }
   ],
   "source": [
    "from sklearn.model_selection import learning_curve\n",
    "from sklearn.tree import DecisionTreeRegressor\n",
    "regressor2= DecisionTreeRegressor()\n",
    "regressor2.fit(x_train,y_train)\n",
    "import numpy as np\n",
    "\n",
    "train_sizes, train_scores, test_scores = learning_curve(regressor2, x, y, cv=5)\n",
    "train_scores_mean = np.mean(train_scores, axis=1)\n",
    "test_scores_mean = np.mean(test_scores, axis=1)\n",
    "\n",
    "plt.plot(train_sizes, train_scores_mean, label='Training Score', color='blue')\n",
    "plt.plot(train_sizes, test_scores_mean, label='Validation Score', color='orange')\n",
    "plt.xlabel('Training Size')\n",
    "plt.ylabel('Score')\n",
    "plt.title('Learning Curve')\n",
    "plt.legend()\n",
    "plt.show()"
   ]
  },
  {
   "cell_type": "code",
   "execution_count": null,
   "id": "574b8bdc-f9da-462b-bc8c-c4ba1fa63e6f",
   "metadata": {},
   "outputs": [],
   "source": []
  }
 ],
 "metadata": {
  "kernelspec": {
   "display_name": "Python 3 (ipykernel)",
   "language": "python",
   "name": "python3"
  },
  "language_info": {
   "codemirror_mode": {
    "name": "ipython",
    "version": 3
   },
   "file_extension": ".py",
   "mimetype": "text/x-python",
   "name": "python",
   "nbconvert_exporter": "python",
   "pygments_lexer": "ipython3",
   "version": "3.11.7"
  }
 },
 "nbformat": 4,
 "nbformat_minor": 5
}
